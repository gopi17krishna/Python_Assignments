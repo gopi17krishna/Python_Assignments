{
 "cells": [
  {
   "cell_type": "raw",
   "id": "317b409f",
   "metadata": {},
   "source": [
    "1. In the below elements which of them are values or an expression? eg:- values can be integer or string and expressions will be mathematical operators.\n",
    "  \n",
    "'hello' * -87.8 - / + 6\n",
    "\n",
    "\n",
    "Answer: \n",
    "         Values are the following:\n",
    "            'hello'\n",
    "            -87.8\n",
    "             6\n",
    "         Expresseions are the following:\n",
    "             *\n",
    "             -\n",
    "             /\n",
    "             +\n"
   ]
  },
  {
   "attachments": {},
   "cell_type": "raw",
   "id": "a54d5abb",
   "metadata": {},
   "source": [
    "2. What is the difference between string and variable?\n",
    "\n",
    "Answer: \n",
    "        A variable is just a storage medium which is used to store some information. A variable can be used to store data which         is of a particulat data type.\n",
    "        A String is one of the data type which shows the type of the variable/data/information it is assigned to. Strings are           always encosed in double quotes or single quotes.\n",
    "        \n"
   ]
  },
  {
   "cell_type": "raw",
   "id": "5a07391d",
   "metadata": {},
   "source": [
    "3. Describe three different data types.\n",
    "\n",
    "Answer:\n",
    "        There are multiple data types like string, int, float, complex, boolean, set, list, tuple, dict etc....\n",
    "        let us discuss on 3 different types of data types i.e Numeric Types, Sequence Types and Boolean Type\n",
    "        Numeric Types include - int, float, complex which deals with numerical values\n",
    "        Sequence Types include - list, tuple, range which deals with swquence of data entered\n",
    "        Boolean Type include the  boolean values which returns either true ir false\n",
    "        \n"
   ]
  },
  {
   "cell_type": "raw",
   "id": "17e7e77e",
   "metadata": {},
   "source": [
    "4. What is an expression made up of? What do all expressions do?\n",
    "\n",
    "Answer:\n",
    "        An expression is made up of different values, variables, operators, and calls to functions which need to be evaluated           at any point of time. \n",
    "        In Python, expressions are evaluated as per the problem statement and displays the result of the expression using a             print or return statement."
   ]
  },
  {
   "cell_type": "raw",
   "id": "e284d5bb",
   "metadata": {},
   "source": [
    "5. This assignment statements, like spam = 10. What is the difference between an expression and a statement?\n",
    "\n",
    "Answer:\n",
    "        An Expression is a sequence or combination of values, variables, operators and function calls that always produces or           returns a result value. Here expression is spam = 10, which assigns value of integer 10 to a variable named spam. \n",
    "        An expression evaluates to a value. The evaluation of a statement does not changes state. Evaluation of an expression           always Produces or returns a result value. Every expression can’t be a statement.\n",
    "        A Statement is any Instruction that a python interpreter can execute. It is the smallest executable unit of code               that has an effect, like creating a variable or displaying a value. Each and every line of code that we write in Python         is called a statement. Because, all the lines are executable by the interpreter or the compiler of that programming             language. A statement executes something. The execution of a statement changes state. Execution of a statement may or           may not produces or displays a result value, it only does whatever the statement says.Every statement can be an                 expression."
   ]
  },
  {
   "cell_type": "raw",
   "id": "e84c4080",
   "metadata": {},
   "source": [
    "6. After running the following code, what does the variable bacon contain?\n",
    "    bacon = 22\n",
    "    bacon + 1\n",
    "\n",
    "Answer:\n",
    "        It will contain 23; since it the first expression, bacon is assigned the value 22 and in the second epression it is             incemented by 1; as bacon = bacon +1/\n",
    "        The output code can be found below.\n",
    "        "
   ]
  },
  {
   "cell_type": "raw",
   "id": "6795ee0d",
   "metadata": {},
   "source": [
    "# Question no. 6 output code\n",
    "bacon = 22\n",
    "bacon + 1\n"
   ]
  },
  {
   "cell_type": "raw",
   "id": "989b50ea",
   "metadata": {},
   "source": [
    "7. What should the values of the following two terms be?\n",
    "    'spam' + 'spamspam'\n",
    "    'spam' * 3\n",
    "\n",
    "Answer:\n",
    "        For the expression {'spam' + 'spamspam'}, it will concatenate oth the string and will produce the output string as             spamspamspam\n",
    "        For the expression {'spam' * 3}, it will multply the string three times and joins them one each to the other as                 spamspamspam.\n",
    "        Both the expression yields the same output as shown below.\n",
    "        "
   ]
  },
  {
   "cell_type": "raw",
   "id": "4f64a110",
   "metadata": {},
   "source": [
    "# Question no. 7 output code\n",
    "'spam' * 3\n",
    "\n"
   ]
  },
  {
   "cell_type": "raw",
   "id": "b0658730",
   "metadata": {},
   "source": [
    "# Question no. 7 output code\n",
    "'spam' + 'spamspam'\n",
    "\n"
   ]
  },
  {
   "cell_type": "raw",
   "id": "eec94c5b",
   "metadata": {},
   "source": [
    "8. Why is eggs a valid variable name while 100 is invalid?\n",
    "\n",
    "Answer:\n",
    "        Python follows a naming convension for its variable, and as 100 is an integer value, it can't be assigned as a variable         name, same is the case with floating numbers, complex numbers etc. A python variable cannot start with an integer,             although we could use it after any allowed variable or special symbol( _ ) like, Gopi100 or Gopi_100 etc. Also, there           are certain reserved keywords in python which can't be used as a variable name like list, int, str etc..\n",
    "        Eggs is neither a reserved keyword nor start with any integers or special symbols other than undescore, thus it                 perfectly follows the variable naming convension of python, therefore eggs is a valid."
   ]
  },
  {
   "cell_type": "raw",
   "id": "13730c0d",
   "metadata": {},
   "source": [
    "9. What three functions can be used to get the integer, floating-point number, or string version of a value?\n",
    "\n",
    "Answer:\n",
    "        To get the integer type we use the function int()\n",
    "        To get the floating point name we use the function float()\n",
    "        To get the string version of a value we use the function str()"
   ]
  },
  {
   "cell_type": "raw",
   "id": "cf72e016",
   "metadata": {},
   "source": [
    "10. Why does this expression cause an error? How can you fix it?\n",
    "    'I have eaten ' + 99 + ' burritos.\n",
    "    \n",
    "Answer:\n",
    "        The above expression causes an error because in that expression there are two differnet data types, i.e. string and             integer, and it is asking the python to concatenate both of them. In python we cannot concatenate two differnet data           types. To do so we need to do the typecasting operation. We need to change the data type of other data which is the odd         one out. and then we can concatenate them ,if it is a string or add them if it is an integer.\n",
    "        \n",
    "        The above error can be fixed by doing a type conversion from integer to string.\n",
    "        \n",
    "        => 'I have eaten' + str(99) + 'burritos'\n",
    "        \n",
    "Errors and solution shown below\n",
    "        \n",
    "        \n"
   ]
  },
  {
   "cell_type": "raw",
   "id": "0ab884c6",
   "metadata": {},
   "source": [
    "# Question no. 10 output code\n",
    "\n",
    "'I have eaten ' + 99 + ' burritos'"
   ]
  },
  {
   "cell_type": "raw",
   "id": "52da5bca",
   "metadata": {},
   "source": [
    "# Question no. 10 output code\n",
    "\n",
    "'I have eaten' + str(99) + 'burritos'"
   ]
  }
 ],
 "metadata": {
  "kernelspec": {
   "display_name": "Python 3 (ipykernel)",
   "language": "python",
   "name": "python3"
  },
  "language_info": {
   "codemirror_mode": {
    "name": "ipython",
    "version": 3
   },
   "file_extension": ".py",
   "mimetype": "text/x-python",
   "name": "python",
   "nbconvert_exporter": "python",
   "pygments_lexer": "ipython3",
   "version": "3.9.7"
  }
 },
 "nbformat": 4,
 "nbformat_minor": 5
}
