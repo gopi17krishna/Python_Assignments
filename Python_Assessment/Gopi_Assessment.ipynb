{
 "cells": [
  {
   "cell_type": "markdown",
   "id": "5a080552",
   "metadata": {},
   "source": [
    "# Question 1\n",
    "### Create a function in python to read the text file and replace specific content of the file."
   ]
  },
  {
   "cell_type": "code",
   "execution_count": 85,
   "id": "53b1042f",
   "metadata": {},
   "outputs": [],
   "source": [
    "def read_replace_specific():\n",
    "    '''Python function to read the text file and replace specific content\n",
    "of the file.'''\n",
    "    \n",
    "\n",
    "    # Write data into the text file\n",
    "    with open('example.txt', 'w') as f:\n",
    "        f.write(\"This is a placement assignment\")\n",
    "\n",
    "    # Read the data of the text file\n",
    "    with open('example.txt', 'r') as f :\n",
    "        file = f.read()\n",
    "        print(file)\n",
    "\n",
    "    # Replace the specific word with other word\n",
    "    file = file.replace('placement', 'screening')\n",
    "\n",
    "    # Write the replaced data into the file\n",
    "    with open('example.txt', 'w') as f:\n",
    "        f.write(file)\n",
    "        print(file) # returns the output of the data    \n",
    "    pass"
   ]
  },
  {
   "cell_type": "code",
   "execution_count": 86,
   "id": "2555754e",
   "metadata": {},
   "outputs": [
    {
     "name": "stdout",
     "output_type": "stream",
     "text": [
      "This is a placement assignment\n",
      "This is a screening assignment\n"
     ]
    }
   ],
   "source": [
    "read_replace_specific()"
   ]
  },
  {
   "cell_type": "markdown",
   "id": "68133a30",
   "metadata": {},
   "source": [
    "# Question 2\n",
    "### Demonstrate use of abstract class, multiple inheritance and decorator in python using examples."
   ]
  },
  {
   "cell_type": "markdown",
   "id": "497894e5",
   "metadata": {},
   "source": [
    "#### i. Abstract Class"
   ]
  },
  {
   "cell_type": "code",
   "execution_count": 87,
   "id": "3fa168ab",
   "metadata": {},
   "outputs": [],
   "source": [
    "# This is the abstract class\n",
    "\n",
    "from abc import ABC, abstractmethod\n",
    "\n",
    "class Shape(ABC):\n",
    "    def __init__(self, shape_name):\n",
    "        self.shape_name = shape_name\n",
    "    \n",
    "    @abstractmethod\n",
    "    def shapes(self):\n",
    "        pass"
   ]
  },
  {
   "cell_type": "code",
   "execution_count": 88,
   "id": "180ffe86",
   "metadata": {},
   "outputs": [],
   "source": [
    "# This is the 1st child class\n",
    "\n",
    "class Circle(Shape):\n",
    "    def __init__(self):\n",
    "        super().__init__(\"Circle\")\n",
    " \n",
    "    def shapes(self):\n",
    "        print(\"This is a Circle using Abstract Class!\")"
   ]
  },
  {
   "cell_type": "code",
   "execution_count": 89,
   "id": "a4855867",
   "metadata": {},
   "outputs": [
    {
     "name": "stdout",
     "output_type": "stream",
     "text": [
      "This is a Circle using Abstract Class!\n"
     ]
    }
   ],
   "source": [
    "#creating the circle object\n",
    "circle = Circle()\n",
    "circle.shapes()"
   ]
  },
  {
   "cell_type": "code",
   "execution_count": 90,
   "id": "07f3294b",
   "metadata": {},
   "outputs": [],
   "source": [
    "# This is the 2nd child class \n",
    "\n",
    "class Triangle(Shape):\n",
    "\n",
    "    def __init__(self):\n",
    "        super().__init__(\"Triangle\")\n",
    "\n",
    "    def shapes(self):\n",
    "        print(\"This is a Triangle using Abstract Class!\")\n"
   ]
  },
  {
   "cell_type": "code",
   "execution_count": 91,
   "id": "e17ec836",
   "metadata": {},
   "outputs": [
    {
     "name": "stdout",
     "output_type": "stream",
     "text": [
      "This is a Triangle using Abstract Class!\n"
     ]
    }
   ],
   "source": [
    "#creating the triangle object\n",
    "triangle = Triangle()\n",
    "triangle.shapes()"
   ]
  },
  {
   "cell_type": "markdown",
   "id": "469b5fda",
   "metadata": {},
   "source": [
    "#### ii. Multiple Inheritance example"
   ]
  },
  {
   "cell_type": "code",
   "execution_count": 92,
   "id": "3797c72e",
   "metadata": {},
   "outputs": [],
   "source": [
    "class A:\n",
    "    def class_A(self):\n",
    "        print('Class A')\n",
    "\n",
    "class B:\n",
    "    def class_B(self):\n",
    "        print('Class B')\n",
    "\n",
    "class C(A,B):\n",
    "    def class_C(self):\n",
    "        print('Class C, Multiple Inherited class')"
   ]
  },
  {
   "cell_type": "code",
   "execution_count": 93,
   "id": "ab600def",
   "metadata": {},
   "outputs": [],
   "source": [
    "a=A()\n",
    "b=B()\n",
    "c=C()"
   ]
  },
  {
   "cell_type": "code",
   "execution_count": 94,
   "id": "1320ed4d",
   "metadata": {},
   "outputs": [
    {
     "name": "stdout",
     "output_type": "stream",
     "text": [
      "Class A\n",
      "Class B\n",
      "Class C, Multiple Inherited class\n",
      "Class A\n",
      "Class B\n"
     ]
    }
   ],
   "source": [
    "a.class_A()\n",
    "b.class_B()\n",
    "c.class_C()\n",
    "c.class_A()\n",
    "c.class_B()"
   ]
  },
  {
   "cell_type": "markdown",
   "id": "28ca7e24",
   "metadata": {},
   "source": [
    "#### iii. Decorator example"
   ]
  },
  {
   "cell_type": "code",
   "execution_count": 95,
   "id": "939d4bd2",
   "metadata": {},
   "outputs": [],
   "source": [
    "def decorator_main_function(fun):\n",
    "    def decorator_inner_function():        \n",
    "        fun()\n",
    "        print('This is an example for python decorator.')\n",
    "    return decorator_inner_function"
   ]
  },
  {
   "cell_type": "code",
   "execution_count": 96,
   "id": "a29fc96b",
   "metadata": {},
   "outputs": [],
   "source": [
    "@decorator_main_function\n",
    "def dec_fun():\n",
    "    print('Welcome! ', end='')"
   ]
  },
  {
   "cell_type": "code",
   "execution_count": 97,
   "id": "5ce3f56e",
   "metadata": {},
   "outputs": [
    {
     "name": "stdout",
     "output_type": "stream",
     "text": [
      "Welcome! This is an example for python decorator.\n"
     ]
    }
   ],
   "source": [
    "dec_fun()"
   ]
  }
 ],
 "metadata": {
  "kernelspec": {
   "display_name": "Python 3 (ipykernel)",
   "language": "python",
   "name": "python3"
  },
  "language_info": {
   "codemirror_mode": {
    "name": "ipython",
    "version": 3
   },
   "file_extension": ".py",
   "mimetype": "text/x-python",
   "name": "python",
   "nbconvert_exporter": "python",
   "pygments_lexer": "ipython3",
   "version": "3.9.7"
  }
 },
 "nbformat": 4,
 "nbformat_minor": 5
}
