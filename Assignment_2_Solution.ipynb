{
 "cells": [
  {
   "cell_type": "markdown",
   "id": "032526bb",
   "metadata": {},
   "source": [
    "### 1.What are the two values of the Boolean data type? How do you write them?"
   ]
  },
  {
   "cell_type": "markdown",
   "id": "937149c0",
   "metadata": {},
   "source": [
    "Answer: The 2 values of Boolean Data types are:\n",
    "        True \n",
    "        False\n",
    "        \n",
    "        We write True as bool True and it returns True if the condtion is true/satisfied; numerically its value in python is 1         and we write False as bool True and it returns False if the condtion is false/unsatisfied and its value in python is 0. "
   ]
  },
  {
   "cell_type": "markdown",
   "id": "f172de6e",
   "metadata": {},
   "source": [
    "### 2. What are the three different types of Boolean operators?"
   ]
  },
  {
   "cell_type": "markdown",
   "id": "aa68b7d6",
   "metadata": {},
   "source": [
    "Answer: The 3 different types of Boolean operators are:\n",
    "        or -->  True if both are true --> a or b\n",
    "        and --> True if at least one is true --> a and b \n",
    "        not --> True only if false --> not x"
   ]
  },
  {
   "cell_type": "markdown",
   "id": "eacc74e1",
   "metadata": {},
   "source": [
    "### 3. Make a list of each Boolean operator's truth tables (i.e. every possible combination of Boolean values for the operator and what it evaluate)."
   ]
  },
  {
   "cell_type": "markdown",
   "id": "18e0adfa",
   "metadata": {},
   "source": [
    "_a_____|_____b____|          and         or       not a      not b\n",
    "True   |   True   |         True        True      False      False\n",
    "True   |   False  |         False       True      False      True\n",
    "False  |   True   |         False       True      True       False\n",
    "False  |   False  |         False       False     True       True"
   ]
  },
  {
   "cell_type": "code",
   "execution_count": 26,
   "id": "33e28b2b",
   "metadata": {},
   "outputs": [
    {
     "name": "stdout",
     "output_type": "stream",
     "text": [
      "And Operator:  [True, False, False, False]\n",
      "Or Operator:  [True, True, True, False]\n",
      "Not Operator:  [False, True]\n"
     ]
    }
   ],
   "source": [
    "list1=[True,False]\n",
    "list2=[True,False]\n",
    "and_=[]\n",
    "or_=[]\n",
    "not_1=[]\n",
    "not_2=[]\n",
    "for i in list1:\n",
    "    for j in list2:\n",
    "        and_.append(i and j)\n",
    "        or_.append(i or j)\n",
    "    not_1.append(not i)\n",
    "print(\"And Operator: \",and_)\n",
    "print(\"Or Operator: \",or_)\n",
    "print(\"Not Operator: \",not_1)"
   ]
  },
  {
   "cell_type": "markdown",
   "id": "2826d757",
   "metadata": {},
   "source": [
    "### 4. What are the values of the following expressions?\n",
    "\n",
    "(5 > 4) and (3 == 5) \\\n",
    "not (5 > 4) \\\n",
    "(5 > 4) or (3 == 5) \\\n",
    "not ((5 > 4) or (3 == 5)) \\\n",
    "(True and True) and (True == False) \\\n",
    "(not False) or (not True) \n"
   ]
  },
  {
   "cell_type": "code",
   "execution_count": 80,
   "id": "08e18c26",
   "metadata": {},
   "outputs": [
    {
     "name": "stdout",
     "output_type": "stream",
     "text": [
      "(5 > 4) and (3 == 5):  False\n",
      "not (5 > 4):  False\n",
      "(5 > 4) or (3 == 5):  True\n",
      "not ((5 > 4) or (3 == 5)):  False\n",
      "(True and True) and (True == False):  False\n",
      "(not False) or (not True):  True\n"
     ]
    }
   ],
   "source": [
    "print(\"(5 > 4) and (3 == 5): \",(5 > 4) and (3 == 5))\n",
    "print(\"not (5 > 4): \",not (5 > 4) )\n",
    "print(\"(5 > 4) or (3 == 5): \",(5 > 4) or (3 == 5))\n",
    "print(\"not ((5 > 4) or (3 == 5)): \",not ((5 > 4) or (3 == 5)))\n",
    "print(\"(True and True) and (True == False): \",(True and True) and (True == False) )\n",
    "print(\"(not False) or (not True): \",(not False) or (not True) )"
   ]
  },
  {
   "cell_type": "markdown",
   "id": "e76f1f00",
   "metadata": {},
   "source": [
    "### 5. What are the six comparison operators?"
   ]
  },
  {
   "cell_type": "markdown",
   "id": "08fd7646",
   "metadata": {},
   "source": [
    "==     Equal\n",
    "!=     Not equal\n",
    ">      Greater than\n",
    "<      Less than\n",
    ">=     Greater than or equal to\n",
    "<=     Less than or equal to"
   ]
  },
  {
   "cell_type": "markdown",
   "id": "5ee6ecfc",
   "metadata": {},
   "source": [
    "### 6. How do you tell the difference between the equal to and assignment operators? Describe a condition and when you would use one."
   ]
  },
  {
   "cell_type": "markdown",
   "id": "c3571d4e",
   "metadata": {},
   "source": [
    "Answer: Assignment operator is '=' and Equal to operator is '=='\n",
    "\n",
    "        //The assignment operator is used to assign the value on the right hand side to the variable on the left hand side. No           constant term can be placed on left hand side.\n",
    "        //The equal to or relational operator checks whether the two given operands are equal or not. If same, it returns true           and if not equal it returns false.\n",
    "        \n",
    "        example:\n",
    "        //For assignment operator:\n",
    "            a= 100\n",
    "            gopi=134\n",
    "            asd= 'charachetr'\n",
    "          \n",
    "        //For equal to operator:\n",
    "            15==15 ----> it will return true\n",
    "            15==14 ----> it will return false\n",
    "         \n",
    "        We use assignment operator when we want to assign a particular value to any variable for futher proceeding s inside a           code. We use equal to operator when we want to check if a value of a variable is equal to a particular value, and if           they are same it returns true and if not thn returns false.\n",
    "            \n",
    "            "
   ]
  },
  {
   "cell_type": "markdown",
   "id": "b9779092",
   "metadata": {},
   "source": [
    "### 7. Identify the three blocks in this code:\n",
    "spam = 0 \\\n",
    "if spam == 10:\\\n",
    "print('eggs')\\\n",
    "if spam > 5:\\\n",
    "print('bacon')\\\n",
    "else:\\\n",
    "print('ham')\\\n",
    "print('spam')\\\n",
    "print('spam')\n"
   ]
  },
  {
   "cell_type": "code",
   "execution_count": 3,
   "id": "9ae4cc11",
   "metadata": {},
   "outputs": [
    {
     "name": "stdout",
     "output_type": "stream",
     "text": [
      "ham\n",
      "spam\n",
      "spam\n"
     ]
    }
   ],
   "source": [
    "spam = 0\n",
    "if spam == 10:\n",
    "    print('eggs')\n",
    "    \n",
    "elif spam > 5:\n",
    "    print('bacon')\n",
    "    \n",
    "else:\n",
    "    print('ham')\n",
    "    print('spam')\n",
    "    print('spam')\n"
   ]
  },
  {
   "cell_type": "markdown",
   "id": "f8078168",
   "metadata": {},
   "source": [
    "Answer: The 3 blocks in the code are\n",
    "        1) if block\n",
    "        2) elif block\n",
    "        3) else block\n",
    "        \n",
    "        //Here spam is assigned the value 0. The IF block doesnt execute because its condition is that its checkig if value of         spam is equal to 10, since spam is assigned 0, if block doesnt execute. The ELIF block also doesnt execute because its         condition is that its checkig if value of spam is greater to 5, since spam is assigned 0, elif block doesnt execute.           Finally, The ELSE block does execute because no other condition satisfies and it returns the 3 print statements."
   ]
  },
  {
   "cell_type": "markdown",
   "id": "ec0d2cf5",
   "metadata": {},
   "source": [
    "### 8. Write code that prints Hello if 1 is stored in spam, prints Howdy if 2 is stored in spam, and prints Greetings! if anything else is stored in spam."
   ]
  },
  {
   "cell_type": "code",
   "execution_count": 9,
   "id": "7a676ef6",
   "metadata": {},
   "outputs": [
    {
     "name": "stdout",
     "output_type": "stream",
     "text": [
      "Enter the spam value: 5\n",
      "Greetings\n"
     ]
    }
   ],
   "source": [
    "spam = int(input(\"Enter the spam value: \"))\n",
    "if spam == 1:\n",
    "    print('Hello')\n",
    "    \n",
    "elif spam == 2:\n",
    "    print('Howdy')\n",
    "    \n",
    "else:\n",
    "    print('Greetings')\n"
   ]
  },
  {
   "cell_type": "markdown",
   "id": "fe5a8563",
   "metadata": {},
   "source": [
    "### 9.If your programme is stuck in an endless loop, what keys you’ll press?"
   ]
  },
  {
   "cell_type": "markdown",
   "id": "a3d34223",
   "metadata": {},
   "source": [
    "Answer:   CTRL + C \\\n",
    "            --> It recognizes as an interrupt to stop a program running in an open window. "
   ]
  },
  {
   "cell_type": "markdown",
   "id": "1ed202c0",
   "metadata": {},
   "source": [
    "### 10. How can you tell the difference between break and continue?"
   ]
  },
  {
   "cell_type": "markdown",
   "id": "f0391d3e",
   "metadata": {},
   "source": [
    "Answer:\n",
    "        \\\\ A break statement which is used inside the loop, will terminate the loop and exit. If break is used inside a nested             loops, then it will break out from the current loop and start executing the next one.\n",
    "        \n",
    "        \\\\ A continue statement which is used inside the loop will stop the current execution, and the python control will go             back to the start of the loop and goes for next iteration.\n",
    "        "
   ]
  },
  {
   "cell_type": "markdown",
   "id": "69333e3a",
   "metadata": {},
   "source": [
    "### 11. In a for loop, what is the difference between range(10), range(0, 10), and range(0, 10, 1)?"
   ]
  },
  {
   "cell_type": "markdown",
   "id": "a262f44c",
   "metadata": {},
   "source": [
    "Answer:\n",
    "        range(start,stop,step)\n",
    "        \n",
    "    --> range(10), range(0,10) and range(0,10,1), all will generate a dataset starting from 0 and all the way to 9, thus               excluding the upper bound. It returns a dataset from 0 to 9 with a total of 10 numbers.\n",
    "    \n",
    "    However, the key takeaways are:\n",
    "    --> range(10) : Here python automatically assumes that the given argument is stop integer. But here the starting integer           and step is not mentioned. By default the start integer is 0 and step size is 1. \n",
    "    --> range(0,10): Here both the starting integer and stop integer are provided. But the step size is not provided. By defaul         the step size is 1.\n",
    "    --> range(0,10,1): Here all the arguments are provided i.e. the start integer, stop integer and step size.\n",
    "    "
   ]
  },
  {
   "cell_type": "markdown",
   "id": "6d9c2815",
   "metadata": {},
   "source": [
    "### 12. Write a short program that prints the numbers 1 to 10 using a for loop. Then write an equivalent program that prints the numbers 1 to 10 using a while loop."
   ]
  },
  {
   "cell_type": "code",
   "execution_count": 25,
   "id": "c6eb2579",
   "metadata": {},
   "outputs": [
    {
     "name": "stdout",
     "output_type": "stream",
     "text": [
      "1\n",
      "2\n",
      "3\n",
      "4\n",
      "5\n",
      "6\n",
      "7\n",
      "8\n",
      "9\n",
      "10\n"
     ]
    }
   ],
   "source": [
    "#Using for loop\n",
    "for i in range(1,11):\n",
    "    print(i)"
   ]
  },
  {
   "cell_type": "code",
   "execution_count": 24,
   "id": "3ae29665",
   "metadata": {},
   "outputs": [
    {
     "name": "stdout",
     "output_type": "stream",
     "text": [
      "1\n",
      "2\n",
      "3\n",
      "4\n",
      "5\n",
      "6\n",
      "7\n",
      "8\n",
      "9\n",
      "10\n"
     ]
    }
   ],
   "source": [
    "#Using while loop\n",
    "i=1\n",
    "while i<=10:\n",
    "    print(i)\n",
    "    i+=1"
   ]
  },
  {
   "cell_type": "markdown",
   "id": "dfe69ff3",
   "metadata": {},
   "source": [
    "### 13. If you had a function named bacon() inside a module named spam, how would you call it after importing spam?"
   ]
  },
  {
   "cell_type": "markdown",
   "id": "fbdbeabb",
   "metadata": {},
   "source": [
    "Answer:\n",
    "    --> we can call it by spam.bacon()"
   ]
  }
 ],
 "metadata": {
  "kernelspec": {
   "display_name": "Python 3 (ipykernel)",
   "language": "python",
   "name": "python3"
  },
  "language_info": {
   "codemirror_mode": {
    "name": "ipython",
    "version": 3
   },
   "file_extension": ".py",
   "mimetype": "text/x-python",
   "name": "python",
   "nbconvert_exporter": "python",
   "pygments_lexer": "ipython3",
   "version": "3.9.7"
  }
 },
 "nbformat": 4,
 "nbformat_minor": 5
}
