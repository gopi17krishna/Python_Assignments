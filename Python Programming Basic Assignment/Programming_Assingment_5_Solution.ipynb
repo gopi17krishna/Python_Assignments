{
 "cells": [
  {
   "cell_type": "markdown",
   "id": "022cb3a3",
   "metadata": {},
   "source": [
    "### 1.\tWrite a Python Program to Find LCM?"
   ]
  },
  {
   "cell_type": "code",
   "execution_count": 2,
   "id": "9cb63393",
   "metadata": {},
   "outputs": [
    {
     "name": "stdout",
     "output_type": "stream",
     "text": [
      "Enter 1st Number: 15\n",
      "Enter 2nd Number: 18\n",
      "The L.C.M. of 15 and 18 is: 90\n"
     ]
    }
   ],
   "source": [
    "a= int(input(\"Enter 1st Number: \"))\n",
    "b= int(input(\"Enter 2nd Number: \"))\n",
    "\n",
    "if a > b:\n",
    "    grt = a\n",
    "else:\n",
    "    grt = b\n",
    "\n",
    "while(True):\n",
    "    if((grt % a == 0) and (grt % b == 0)):\n",
    "        lcm = grt\n",
    "        break\n",
    "    grt += 1\n",
    "\n",
    "print(\"The L.C.M. of {} and {} is:\".format(a,b), lcm)"
   ]
  },
  {
   "cell_type": "markdown",
   "id": "9e1b4f85",
   "metadata": {},
   "source": [
    "### 2.\tWrite a Python Program to Find HCF?\n"
   ]
  },
  {
   "cell_type": "code",
   "execution_count": 6,
   "id": "4da03712",
   "metadata": {},
   "outputs": [
    {
     "name": "stdout",
     "output_type": "stream",
     "text": [
      "Enter 1st Number: 200\n",
      "Enter 2nd Number: 120\n",
      "The H.C.F of 200 and 120 is: 40\n"
     ]
    }
   ],
   "source": [
    "a= int(input(\"Enter 1st Number: \"))\n",
    "b= int(input(\"Enter 2nd Number: \"))\n",
    "\n",
    "if a > b:\n",
    "    sml = b\n",
    "else:\n",
    "    sml = a\n",
    "for i in range(1, sml+1):\n",
    "    if((a % i == 0) and (b % i == 0)):\n",
    "        hcf = i \n",
    "\n",
    "print(\"The H.C.F of {} and {} is:\".format(a,b), hcf)"
   ]
  },
  {
   "cell_type": "markdown",
   "id": "6f56ad2a",
   "metadata": {},
   "source": [
    "### 3.\tWrite a Python Program to Convert Decimal to Binary, Octal and Hexadecimal?\n"
   ]
  },
  {
   "cell_type": "code",
   "execution_count": 45,
   "id": "8b6dc4ad",
   "metadata": {},
   "outputs": [
    {
     "name": "stdout",
     "output_type": "stream",
     "text": [
      "Enter the Decimal Number: 354\n",
      "\n",
      "Binary:  0b101100010\n",
      "Octal:  0o542\n",
      "Hexadecimal:  0x162\n"
     ]
    }
   ],
   "source": [
    "a= int(input(\"Enter the Decimal Number: \"))\n",
    "\n",
    "print()\n",
    "print(\"Binary: \",bin(a))\n",
    "print(\"Octal: \",oct(a))\n",
    "print(\"Hexadecimal: \",hex(a))"
   ]
  },
  {
   "cell_type": "markdown",
   "id": "9a9e8801",
   "metadata": {},
   "source": [
    "### 4.\tWrite a Python Program To Find ASCII value of a character?\n"
   ]
  },
  {
   "cell_type": "code",
   "execution_count": 29,
   "id": "97731800",
   "metadata": {},
   "outputs": [
    {
     "name": "stdout",
     "output_type": "stream",
     "text": [
      "Enter the character: q\n",
      "The ASCII value of 'q' is 113\n"
     ]
    }
   ],
   "source": [
    "a= input(\"Enter the character: \")\n",
    "\n",
    "print(\"The ASCII value of '\" + a + \"' is\", ord(a))"
   ]
  },
  {
   "cell_type": "markdown",
   "id": "f2103b84",
   "metadata": {},
   "source": [
    "### 5.\tWrite a Python Program to Make a Simple Calculator with 4 basic mathematical operations?"
   ]
  },
  {
   "cell_type": "code",
   "execution_count": 46,
   "id": "42d0d292",
   "metadata": {},
   "outputs": [
    {
     "name": "stdout",
     "output_type": "stream",
     "text": [
      "Enter the 1st Number: 35\n",
      "Enter the 2nd Number: 7\n",
      "Enter the calculation you want (+ , - , * , /): /\n",
      "\n",
      "DIVISION is:  5.0\n"
     ]
    }
   ],
   "source": [
    "a= int(input(\"Enter the 1st Number: \"))\n",
    "b= int(input(\"Enter the 2nd Number: \"))\n",
    "i=input(\"Enter the calculation you want (+ , - , * , /): \")\n",
    "kw= ['+','-','*','/']\n",
    "print()\n",
    "\n",
    "for kw in i:\n",
    "    if kw == '+':\n",
    "        print(\"SUM is: \",a+b)\n",
    "    elif kw == '-':\n",
    "        print(\"DIFFERNCE is: \",a-b)\n",
    "    elif kw == '*':\n",
    "        print(\"PRODUCT is: \",a*b)\n",
    "    elif kw == '/':\n",
    "        print(\"DIVISION is: \",a/b)\n",
    "    else:\n",
    "        print(\"Please enter the proper operator\")\n",
    "    "
   ]
  }
 ],
 "metadata": {
  "kernelspec": {
   "display_name": "Python 3 (ipykernel)",
   "language": "python",
   "name": "python3"
  },
  "language_info": {
   "codemirror_mode": {
    "name": "ipython",
    "version": 3
   },
   "file_extension": ".py",
   "mimetype": "text/x-python",
   "name": "python",
   "nbconvert_exporter": "python",
   "pygments_lexer": "ipython3",
   "version": "3.9.7"
  }
 },
 "nbformat": 4,
 "nbformat_minor": 5
}
