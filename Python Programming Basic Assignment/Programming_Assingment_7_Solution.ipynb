{
 "cells": [
  {
   "cell_type": "markdown",
   "id": "16b35e65",
   "metadata": {},
   "source": [
    "### 1. Write a Python Program to find sum of array?"
   ]
  },
  {
   "cell_type": "code",
   "execution_count": 5,
   "id": "ca9ec78b",
   "metadata": {},
   "outputs": [
    {
     "name": "stdout",
     "output_type": "stream",
     "text": [
      "ENter the limit: 10\n",
      "Enter the list elements: 2\n",
      "Enter the list elements: 42\n",
      "Enter the list elements: 534\n",
      "Enter the list elements: 57\n",
      "Enter the list elements: 324\n",
      "Enter the list elements: 546\n",
      "Enter the list elements: 575\n",
      "Enter the list elements: 234\n",
      "Enter the list elements: 78\n",
      "Enter the list elements: 2\n"
     ]
    },
    {
     "data": {
      "text/plain": [
       "('SUM OF THE ARRAY IS:', 2394)"
      ]
     },
     "execution_count": 5,
     "metadata": {},
     "output_type": "execute_result"
    }
   ],
   "source": [
    "def sum_arr():\n",
    "    lst=[]\n",
    "    num= int(input(\"ENter the limit: \"))\n",
    "    \n",
    "    for i in range(0,num):\n",
    "        number=int(input(\"Enter the list elements: \"))\n",
    "        lst.append(number)\n",
    "    \n",
    "    sum=0\n",
    "    for j in lst:\n",
    "        sum+=j\n",
    "    return \"SUM OF THE ARRAY IS:\", sum\n",
    "\n",
    "sum_arr()"
   ]
  },
  {
   "cell_type": "markdown",
   "id": "587da532",
   "metadata": {},
   "source": [
    "### 2. Write a Python Program to find largest element in an array?\n"
   ]
  },
  {
   "cell_type": "code",
   "execution_count": 11,
   "id": "13c36821",
   "metadata": {},
   "outputs": [
    {
     "name": "stdout",
     "output_type": "stream",
     "text": [
      "ENter the limit: 10\n",
      "Enter the list elements: 123\n",
      "Enter the list elements: 234\n",
      "Enter the list elements: 123\n",
      "Enter the list elements: 45\n",
      "Enter the list elements: 456\n",
      "Enter the list elements: 756\n",
      "Enter the list elements: 123\n",
      "Enter the list elements: 2345\n",
      "Enter the list elements: 456\n",
      "Enter the list elements: 234\n"
     ]
    },
    {
     "data": {
      "text/plain": [
       "('LARGEST ELEMENT IN THE ARRAY IS:', 2345)"
      ]
     },
     "execution_count": 11,
     "metadata": {},
     "output_type": "execute_result"
    }
   ],
   "source": [
    "def lar_arr():\n",
    "    lst=[]\n",
    "    num= int(input(\"ENter the limit: \"))\n",
    "    \n",
    "    for i in range(0,num):\n",
    "        number=int(input(\"Enter the list elements: \"))\n",
    "        lst.append(number)\n",
    "        \n",
    "    #return max(lst)\n",
    "        \n",
    "    max = lst[0]\n",
    "  \n",
    "    for j in range(1, num):\n",
    "        if lst[j] > max:\n",
    "            max = lst[j]\n",
    "    \n",
    "    return \"LARGEST ELEMENT IN THE ARRAY IS:\", max\n",
    "    \n",
    "lar_arr()"
   ]
  },
  {
   "cell_type": "markdown",
   "id": "b63822f1",
   "metadata": {},
   "source": [
    "### 3. Write a Python Program for array rotation?\n"
   ]
  },
  {
   "cell_type": "code",
   "execution_count": 18,
   "id": "27800398",
   "metadata": {},
   "outputs": [
    {
     "name": "stdout",
     "output_type": "stream",
     "text": [
      "Array after left rotation is:  [2123, 1233, 234, 553, 146, 987, 1234]\n"
     ]
    }
   ],
   "source": [
    "def rot_Array(lst, n, d):\n",
    "    l1 = []\n",
    "    i = 0\n",
    "    while (i < d):\n",
    "        l1.append(lst[i])\n",
    "        i = i + 1\n",
    "    i = 0\n",
    "    while (d < n):\n",
    "        lst[i] = lst[d]\n",
    "        i = i + 1\n",
    "        d = d + 1\n",
    "    lst[:] = lst[: i] + l1\n",
    "    return lst\n",
    "\n",
    "lst = [1234, 2123, 1233, 234, 553, 146, 987]\n",
    "print(\"Array after left rotation is: \", end=' ')\n",
    "print(rot_Array(lst, len(lst), 1))"
   ]
  },
  {
   "cell_type": "markdown",
   "id": "2ce87ebe",
   "metadata": {},
   "source": [
    "### 4. Write a Python Program to Split the array and add the first part to the end?\n"
   ]
  },
  {
   "cell_type": "code",
   "execution_count": 59,
   "id": "5823add7",
   "metadata": {},
   "outputs": [
    {
     "name": "stdout",
     "output_type": "stream",
     "text": [
      "enter the splitting number: 3\n"
     ]
    },
    {
     "data": {
      "text/plain": [
       "([1, 2, 3], [4, 5, 6, 7, 8], [4, 5, 6, 7, 8, 1, 2, 3])"
      ]
     },
     "execution_count": 59,
     "metadata": {},
     "output_type": "execute_result"
    }
   ],
   "source": [
    "   def split_arr():\n",
    "        n=int(input(\"enter the splitting number: \"))\n",
    "        arr=[1,2,3,4,5,6,7,8]\n",
    "        lst1=[]\n",
    "        lst2=[]\n",
    "        lst3=[]\n",
    "        for i in arr[0:n]:\n",
    "            lst1.append(i)\n",
    "       # print(lst1)\n",
    "        for j in arr[n:]:\n",
    "            lst2.append(j)\n",
    "      #  print(lst2)\n",
    "        lst3=lst2+lst1\n",
    "     #   print(lst3)\n",
    "        return lst1,lst2,lst3\n",
    "    \n",
    "split_arr()"
   ]
  },
  {
   "cell_type": "markdown",
   "id": "eb34c4f7",
   "metadata": {},
   "source": [
    "### 5. Write a Python Program to check if given array is Monotonic?"
   ]
  },
  {
   "cell_type": "code",
   "execution_count": 110,
   "id": "b617a472",
   "metadata": {},
   "outputs": [
    {
     "name": "stdout",
     "output_type": "stream",
     "text": [
      "Yes [1, 2, 3, 4] is Monotonic\n",
      "Yes [4, 3, 2, 1] is Monotonic\n",
      "No [1, 2, 3, 1, 14, 0] is not Monotonic\n"
     ]
    }
   ],
   "source": [
    "def monot(a):\n",
    "    \n",
    "    #a=[1,2,3,4]\n",
    "    #a=[4,3,2,1]\n",
    "    #a=[1,2,3,1,14,0]\n",
    "    \n",
    "    if all(a[i]>=a[i+1] for i in range(len(a)-1)) or all(a[i]<=a[i+1] for i in range(len(a)-1)):\n",
    "        print(\"Yes {} is Monotonic\".format(a))\n",
    "    else:\n",
    "        print(\"No {} is not Monotonic\".format(a))\n",
    "monot([1,2,3,4])\n",
    "monot([4,3,2,1])\n",
    "monot([1,2,3,1,14,0])"
   ]
  }
 ],
 "metadata": {
  "kernelspec": {
   "display_name": "Python 3 (ipykernel)",
   "language": "python",
   "name": "python3"
  },
  "language_info": {
   "codemirror_mode": {
    "name": "ipython",
    "version": 3
   },
   "file_extension": ".py",
   "mimetype": "text/x-python",
   "name": "python",
   "nbconvert_exporter": "python",
   "pygments_lexer": "ipython3",
   "version": "3.9.7"
  }
 },
 "nbformat": 4,
 "nbformat_minor": 5
}
