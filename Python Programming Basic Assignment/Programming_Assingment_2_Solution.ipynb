{
 "cells": [
  {
   "cell_type": "markdown",
   "id": "9490b1fc",
   "metadata": {},
   "source": [
    "### 1.\tWrite a Python program to convert kilometers to miles?\n",
    "\n"
   ]
  },
  {
   "cell_type": "code",
   "execution_count": 5,
   "id": "0d7b99a8",
   "metadata": {},
   "outputs": [
    {
     "name": "stdout",
     "output_type": "stream",
     "text": [
      "Enter the kilometer value: 10\n",
      "10.00 kilometers is equal to 6.21 miles\n"
     ]
    }
   ],
   "source": [
    "k = float(input(\"Enter the kilometer value: \"))\n",
    "m= 0.62137 * k\n",
    "print('%0.2f kilometers is equal to %0.2f miles' %(k,m))"
   ]
  },
  {
   "cell_type": "markdown",
   "id": "209f533d",
   "metadata": {},
   "source": [
    "### 2.\tWrite a Python program to convert Celsius to Fahrenheit?\n"
   ]
  },
  {
   "cell_type": "code",
   "execution_count": 6,
   "id": "065d3481",
   "metadata": {},
   "outputs": [
    {
     "name": "stdout",
     "output_type": "stream",
     "text": [
      "Enter the Celsius value: 100\n",
      "100.0 Celsius is equal to 212.00 Fahrenheit\n"
     ]
    }
   ],
   "source": [
    "c = float(input(\"Enter the Celsius value: \"))\n",
    "f = (c * 1.8) + 32.\n",
    "print('%0.1f Celsius is equal to %0.1f Fahrenheit' %(c,f))"
   ]
  },
  {
   "cell_type": "markdown",
   "id": "c85e45e8",
   "metadata": {},
   "source": [
    "### 3.\tWrite a Python program to display calendar?\n"
   ]
  },
  {
   "cell_type": "code",
   "execution_count": 11,
   "id": "5451197f",
   "metadata": {},
   "outputs": [
    {
     "name": "stdout",
     "output_type": "stream",
     "text": [
      "Enter the Year: 2022\n",
      "                                  2022\n",
      "\n",
      "      January                   February                   March\n",
      "Mo Tu We Th Fr Sa Su      Mo Tu We Th Fr Sa Su      Mo Tu We Th Fr Sa Su\n",
      "                1  2          1  2  3  4  5  6          1  2  3  4  5  6\n",
      " 3  4  5  6  7  8  9       7  8  9 10 11 12 13       7  8  9 10 11 12 13\n",
      "10 11 12 13 14 15 16      14 15 16 17 18 19 20      14 15 16 17 18 19 20\n",
      "17 18 19 20 21 22 23      21 22 23 24 25 26 27      21 22 23 24 25 26 27\n",
      "24 25 26 27 28 29 30      28                        28 29 30 31\n",
      "31\n",
      "\n",
      "       April                      May                       June\n",
      "Mo Tu We Th Fr Sa Su      Mo Tu We Th Fr Sa Su      Mo Tu We Th Fr Sa Su\n",
      "             1  2  3                         1             1  2  3  4  5\n",
      " 4  5  6  7  8  9 10       2  3  4  5  6  7  8       6  7  8  9 10 11 12\n",
      "11 12 13 14 15 16 17       9 10 11 12 13 14 15      13 14 15 16 17 18 19\n",
      "18 19 20 21 22 23 24      16 17 18 19 20 21 22      20 21 22 23 24 25 26\n",
      "25 26 27 28 29 30         23 24 25 26 27 28 29      27 28 29 30\n",
      "                          30 31\n",
      "\n",
      "        July                     August                  September\n",
      "Mo Tu We Th Fr Sa Su      Mo Tu We Th Fr Sa Su      Mo Tu We Th Fr Sa Su\n",
      "             1  2  3       1  2  3  4  5  6  7                1  2  3  4\n",
      " 4  5  6  7  8  9 10       8  9 10 11 12 13 14       5  6  7  8  9 10 11\n",
      "11 12 13 14 15 16 17      15 16 17 18 19 20 21      12 13 14 15 16 17 18\n",
      "18 19 20 21 22 23 24      22 23 24 25 26 27 28      19 20 21 22 23 24 25\n",
      "25 26 27 28 29 30 31      29 30 31                  26 27 28 29 30\n",
      "\n",
      "      October                   November                  December\n",
      "Mo Tu We Th Fr Sa Su      Mo Tu We Th Fr Sa Su      Mo Tu We Th Fr Sa Su\n",
      "                1  2          1  2  3  4  5  6                1  2  3  4\n",
      " 3  4  5  6  7  8  9       7  8  9 10 11 12 13       5  6  7  8  9 10 11\n",
      "10 11 12 13 14 15 16      14 15 16 17 18 19 20      12 13 14 15 16 17 18\n",
      "17 18 19 20 21 22 23      21 22 23 24 25 26 27      19 20 21 22 23 24 25\n",
      "24 25 26 27 28 29 30      28 29 30                  26 27 28 29 30 31\n",
      "31\n",
      "\n"
     ]
    }
   ],
   "source": [
    "import calendar\n",
    "\n",
    "year = int(input('Enter the Year: '))\n",
    "#month = int(input('Enter the Month: '))\n",
    "\n",
    "# display the calendar\n",
    "print(calendar.calendar(year))\n"
   ]
  },
  {
   "cell_type": "markdown",
   "id": "1b6c3e25",
   "metadata": {},
   "source": [
    "### 4.\tWrite a Python program to solve quadratic equation?\n"
   ]
  },
  {
   "cell_type": "code",
   "execution_count": 21,
   "id": "3d23d7c7",
   "metadata": {},
   "outputs": [
    {
     "name": "stdout",
     "output_type": "stream",
     "text": [
      "Enter the a value: 1\n",
      "Enter the b value: 4\n",
      "Enter the c value: -10\n",
      "The solutions of the Quadratic Equation is (-5.741657386773941+0j) and (1.7416573867739413+0j)\n"
     ]
    }
   ],
   "source": [
    "# x=(-b± (b^2 - 4ac)^ 0.5)/(2a)\n",
    "\n",
    "import cmath\n",
    "a = int(input(\"Enter the a value: \"))\n",
    "b = int(input(\"Enter the b value: \"))\n",
    "c = int(input(\"Enter the c value: \"))\n",
    "\n",
    "# discriminant\n",
    "d = (b**2) - (4*a*c)\n",
    "\n",
    "# 2 solutions\n",
    "e = (-b-cmath.sqrt(d))/(2*a)\n",
    "f = (-b+cmath.sqrt(d))/(2*a)\n",
    "\n",
    "print('The solutions of the Quadratic Equation is {0} and {1}'.format(e,f))\n"
   ]
  },
  {
   "cell_type": "markdown",
   "id": "b84e96fb",
   "metadata": {},
   "source": [
    "### 5.\tWrite a Python program to swap two variables without temp variable?"
   ]
  },
  {
   "cell_type": "code",
   "execution_count": 23,
   "id": "cf6c5973",
   "metadata": {},
   "outputs": [
    {
     "name": "stdout",
     "output_type": "stream",
     "text": [
      "Before swapping:  \n",
      " a = 1111 \n",
      " b = 9999\n",
      "After swapping:  \n",
      " a = 9999 \n",
      " b = 1111\n"
     ]
    }
   ],
   "source": [
    "a=1111\n",
    "b=9999\n",
    "print(\"Before swapping: \",\"\\n a =\",a,\"\\n b =\",b)\n",
    "a,b=b,a\n",
    "print(\"After swapping: \",\"\\n a =\",a,\"\\n b =\",b)"
   ]
  }
 ],
 "metadata": {
  "kernelspec": {
   "display_name": "Python 3 (ipykernel)",
   "language": "python",
   "name": "python3"
  },
  "language_info": {
   "codemirror_mode": {
    "name": "ipython",
    "version": 3
   },
   "file_extension": ".py",
   "mimetype": "text/x-python",
   "name": "python",
   "nbconvert_exporter": "python",
   "pygments_lexer": "ipython3",
   "version": "3.9.7"
  }
 },
 "nbformat": 4,
 "nbformat_minor": 5
}
