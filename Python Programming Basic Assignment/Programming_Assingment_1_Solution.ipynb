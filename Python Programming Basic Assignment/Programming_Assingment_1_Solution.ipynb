{
 "cells": [
  {
   "cell_type": "markdown",
   "id": "35643efb",
   "metadata": {},
   "source": [
    "### 1.\tWrite a Python program to print \"Hello Python\"?"
   ]
  },
  {
   "cell_type": "code",
   "execution_count": 1,
   "id": "54cf9cc6",
   "metadata": {},
   "outputs": [
    {
     "name": "stdout",
     "output_type": "stream",
     "text": [
      "Hello Python\n"
     ]
    }
   ],
   "source": [
    "print(\"Hello Python\")"
   ]
  },
  {
   "cell_type": "markdown",
   "id": "71b058e8",
   "metadata": {},
   "source": [
    "### 2.\tWrite a Python program to do arithmetical operations addition and division.?\n"
   ]
  },
  {
   "cell_type": "code",
   "execution_count": 2,
   "id": "12d5947b",
   "metadata": {},
   "outputs": [
    {
     "name": "stdout",
     "output_type": "stream",
     "text": [
      "Enter the 1st number: 100\n",
      "Enter the 2nd number: 10\n",
      "Addition:  110\n",
      "Division:  10.0\n"
     ]
    }
   ],
   "source": [
    "a = int(input(\"Enter the 1st number: \"))\n",
    "b = int(input(\"Enter the 2nd number: \"))\n",
    "\n",
    "print(\"Addition: \", a+b)\n",
    "print(\"Division: \", a/b)"
   ]
  },
  {
   "cell_type": "markdown",
   "id": "6bc0a079",
   "metadata": {},
   "source": [
    "### 3.\tWrite a Python program to find the area of a triangle?\n"
   ]
  },
  {
   "cell_type": "code",
   "execution_count": 6,
   "id": "e0c9e5a9",
   "metadata": {},
   "outputs": [
    {
     "name": "stdout",
     "output_type": "stream",
     "text": [
      "Enter the base of the Traingle: 10\n",
      "Enter the height of the Traingle: 25\n",
      "Area of the Triangle is:  125.0\n"
     ]
    }
   ],
   "source": [
    "base = int(input(\"Enter the base of the Traingle: \"))\n",
    "height = int(input(\"Enter the height of the Traingle: \"))\n",
    "\n",
    "area = 0.5 * base * height\n",
    "print(\"Area of the Triangle is: \", area)"
   ]
  },
  {
   "cell_type": "markdown",
   "id": "e2f14f0d",
   "metadata": {},
   "source": [
    "### 4.\tWrite a Python program to swap two variables?\n"
   ]
  },
  {
   "cell_type": "code",
   "execution_count": 8,
   "id": "664d1e60",
   "metadata": {},
   "outputs": [
    {
     "name": "stdout",
     "output_type": "stream",
     "text": [
      "Before swapping:  \n",
      " a = 10 \n",
      " b = 15\n",
      "After swapping:  \n",
      " a = 15 \n",
      " b = 10\n"
     ]
    }
   ],
   "source": [
    "a=10\n",
    "b=15\n",
    "print(\"Before swapping: \",\"\\n a =\",a,\"\\n b =\",b)\n",
    "a,b=b,a\n",
    "print(\"After swapping: \",\"\\n a =\",a,\"\\n b =\",b)\n"
   ]
  },
  {
   "cell_type": "markdown",
   "id": "0d57514b",
   "metadata": {},
   "source": [
    "### 5.\tWrite a Python program to generate a random number?"
   ]
  },
  {
   "cell_type": "code",
   "execution_count": 16,
   "id": "42fb8e2d",
   "metadata": {},
   "outputs": [
    {
     "name": "stdout",
     "output_type": "stream",
     "text": [
      "Enter the random number limit: 100\n",
      "Random number is:  68\n"
     ]
    }
   ],
   "source": [
    "import random\n",
    "a= int(input(\"Enter the random number limit: \"))\n",
    "print(\"Random number is: \",random.randint(0,a))"
   ]
  }
 ],
 "metadata": {
  "kernelspec": {
   "display_name": "Python 3 (ipykernel)",
   "language": "python",
   "name": "python3"
  },
  "language_info": {
   "codemirror_mode": {
    "name": "ipython",
    "version": 3
   },
   "file_extension": ".py",
   "mimetype": "text/x-python",
   "name": "python",
   "nbconvert_exporter": "python",
   "pygments_lexer": "ipython3",
   "version": "3.9.7"
  }
 },
 "nbformat": 4,
 "nbformat_minor": 5
}
