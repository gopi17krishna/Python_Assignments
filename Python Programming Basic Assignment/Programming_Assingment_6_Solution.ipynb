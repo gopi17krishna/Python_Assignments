{
 "cells": [
  {
   "cell_type": "markdown",
   "id": "afe354d9",
   "metadata": {},
   "source": [
    "### 1.\tWrite a Python Program to Display Fibonacci Sequence Using Recursion?"
   ]
  },
  {
   "cell_type": "code",
   "execution_count": 8,
   "id": "b1721351",
   "metadata": {},
   "outputs": [
    {
     "name": "stdout",
     "output_type": "stream",
     "text": [
      "Enter the Fibonacci Number Limit: 15\n",
      "0 1 1 2 3 5 8 13 21 34 55 89 144 233 377 "
     ]
    }
   ],
   "source": [
    "def fibo():\n",
    "    \n",
    "    n=int(input(\"Enter the Fibonacci Number Limit: \"))\n",
    "    a,b=0,1\n",
    "    sum=0\n",
    "    \n",
    "    if n==1:\n",
    "        print(a)\n",
    "\n",
    "    else:\n",
    "        print(a,end=\" \")\n",
    "        print(b,end=\" \")\n",
    "\n",
    "        for i in range(2,n):\n",
    "            sum=a+b\n",
    "            a,b=b,sum\n",
    "            print(sum,end=\" \")\n",
    "            \n",
    "        \n",
    "fibo()"
   ]
  },
  {
   "cell_type": "markdown",
   "id": "b957e7b2",
   "metadata": {},
   "source": [
    "### 2.\tWrite a Python Program to Find Factorial of Number Using Recursion?"
   ]
  },
  {
   "cell_type": "code",
   "execution_count": 12,
   "id": "41e8d776",
   "metadata": {},
   "outputs": [
    {
     "name": "stdout",
     "output_type": "stream",
     "text": [
      "Enter the number: 10\n",
      "Factorial of 10 is : 3628800\n"
     ]
    }
   ],
   "source": [
    "def fact() :  \n",
    "    \n",
    "    a=int(input(\"Enter the number: \"))\n",
    "    fact=1\n",
    "    if a==0 or a==1:\n",
    "        print(\"Factorial of {} is :\".format(a),1)\n",
    "\n",
    "    else:\n",
    "        for i in range(1,a+1):\n",
    "            fact=fact*i\n",
    "        print(\"Factorial of {} is :\".format(a),fact)\n",
    "        \n",
    "        \n",
    "fact()"
   ]
  },
  {
   "cell_type": "markdown",
   "id": "798eb916",
   "metadata": {},
   "source": [
    "### 3.\tWrite a Python Program to calculate your Body Mass Index?"
   ]
  },
  {
   "cell_type": "code",
   "execution_count": 35,
   "id": "cfd197ca",
   "metadata": {},
   "outputs": [
    {
     "name": "stdout",
     "output_type": "stream",
     "text": [
      "Enter your weight in Kg: 75\n",
      "Enter your height in cm: 180\n"
     ]
    },
    {
     "data": {
      "text/plain": [
       "(23.15, 'You are Normal Weight')"
      ]
     },
     "execution_count": 35,
     "metadata": {},
     "output_type": "execute_result"
    }
   ],
   "source": [
    "###### BMI = Weight/(Height)^2\n",
    "\n",
    "def BMI():\n",
    "    \n",
    "    weight= float(input(\"Enter your weight in Kg: \"))\n",
    "    height= float(input(\"Enter your height in cm: \"))\n",
    "    \n",
    "    bmi= (weight*10000)/(height**2)\n",
    "\n",
    "    if bmi <= 18.5 :\n",
    "        return round(bmi,2), \"You are UnderWeight!!!!\"\n",
    "    elif bmi > 18.5 and bmi <= 24.9 :\n",
    "        return round(bmi,2), \"You are Normal Weight\"\n",
    "    elif bmi > 24.9 and bmi <= 29.9 :\n",
    "        return round(bmi,2), \"You are OverWeight!!\"\n",
    "    elif bmi > 29.9 :\n",
    "        return round(bmi,2), \"You are having OBESITY!!!!\"\n",
    "    else:\n",
    "        return\n",
    "\n",
    "BMI()\n"
   ]
  },
  {
   "cell_type": "markdown",
   "id": "9cc259e6",
   "metadata": {},
   "source": [
    "### 4.\tWrite a Python Program to calculate the natural logarithm of any number?\n"
   ]
  },
  {
   "cell_type": "code",
   "execution_count": 42,
   "id": "907647c6",
   "metadata": {},
   "outputs": [
    {
     "name": "stdout",
     "output_type": "stream",
     "text": [
      "Enter the number: 16\n"
     ]
    },
    {
     "data": {
      "text/plain": [
       "('Logarithm base 10 of 16 is:', 1.2041199826559248)"
      ]
     },
     "execution_count": 42,
     "metadata": {},
     "output_type": "execute_result"
    }
   ],
   "source": [
    "def logf():\n",
    "    import math\n",
    "    a=int(input(\"Enter the number: \"))\n",
    "\n",
    "    return \"Logarithm base 10 of {} is:\".format(a), math.log10(a)\n",
    "\n",
    "logf()"
   ]
  },
  {
   "cell_type": "markdown",
   "id": "e0dc01ca",
   "metadata": {},
   "source": [
    "### 5.\tWrite a Python Program for cube sum of first n natural numbers?"
   ]
  },
  {
   "cell_type": "code",
   "execution_count": 51,
   "id": "67223477",
   "metadata": {},
   "outputs": [
    {
     "name": "stdout",
     "output_type": "stream",
     "text": [
      "Enter the number: 5\n"
     ]
    },
    {
     "data": {
      "text/plain": [
       "('The cube of first 5 number is:', 225)"
      ]
     },
     "execution_count": 51,
     "metadata": {},
     "output_type": "execute_result"
    }
   ],
   "source": [
    "def cube_sum():\n",
    "    k=int(input(\"Enter the number: \"))\n",
    "    sum=0\n",
    "    for i in range(1,k+1):\n",
    "        sum=sum + (i**3)\n",
    "    return \"The cube of first {} number is:\".format(k), sum\n",
    "    \n",
    "cube_sum()\n",
    "    "
   ]
  }
 ],
 "metadata": {
  "kernelspec": {
   "display_name": "Python 3 (ipykernel)",
   "language": "python",
   "name": "python3"
  },
  "language_info": {
   "codemirror_mode": {
    "name": "ipython",
    "version": 3
   },
   "file_extension": ".py",
   "mimetype": "text/x-python",
   "name": "python",
   "nbconvert_exporter": "python",
   "pygments_lexer": "ipython3",
   "version": "3.9.7"
  }
 },
 "nbformat": 4,
 "nbformat_minor": 5
}
