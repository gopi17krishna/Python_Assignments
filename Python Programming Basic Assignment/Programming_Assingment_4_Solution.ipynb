{
 "cells": [
  {
   "cell_type": "markdown",
   "id": "8fbb0439",
   "metadata": {},
   "source": [
    "### 1.\tWrite a Python Program to Find the Factorial of a Number?"
   ]
  },
  {
   "cell_type": "code",
   "execution_count": 36,
   "id": "11522a30",
   "metadata": {},
   "outputs": [
    {
     "name": "stdout",
     "output_type": "stream",
     "text": [
      "Enter the number: 5\n",
      "Factorial of 5 is : 120\n"
     ]
    }
   ],
   "source": [
    "#5! = 5x4x3x2x1\n",
    "#6!= 6x5x4x3x2x1\n",
    "#N!= Nx(N-1)x(N-2)x(N-3)x... 3x2x1\n",
    "\n",
    "a=int(input(\"Enter the number: \"))\n",
    "fact=1\n",
    "if a==0 or a==1:\n",
    "    print(\"Factorial of {} is :\".format(a),1)\n",
    "    \n",
    "else:\n",
    "    for i in range(1,a+1):\n",
    "        fact=fact*i\n",
    "    print(\"Factorial of {} is :\".format(a),fact)\n",
    "\n",
    "        \n"
   ]
  },
  {
   "cell_type": "markdown",
   "id": "ca8f7c09",
   "metadata": {},
   "source": [
    "### 2.\tWrite a Python Program to Display the multiplication Table?\n"
   ]
  },
  {
   "cell_type": "code",
   "execution_count": 42,
   "id": "14e7e456",
   "metadata": {},
   "outputs": [
    {
     "name": "stdout",
     "output_type": "stream",
     "text": [
      "Enter the number: 7\n",
      "7 x 1 = 7\n",
      "7 x 2 = 14\n",
      "7 x 3 = 21\n",
      "7 x 4 = 28\n",
      "7 x 5 = 35\n",
      "7 x 6 = 42\n",
      "7 x 7 = 49\n",
      "7 x 8 = 56\n",
      "7 x 9 = 63\n",
      "7 x 10 = 70\n"
     ]
    }
   ],
   "source": [
    "a=int(input(\"Enter the number: \"))\n",
    "for i in range(1,11):\n",
    "    print(\"{} x {} =\".format(a,i),a*i)"
   ]
  },
  {
   "cell_type": "markdown",
   "id": "e375b342",
   "metadata": {},
   "source": [
    "### 3.\tWrite a Python Program to Print the Fibonacci sequence?\n"
   ]
  },
  {
   "cell_type": "code",
   "execution_count": 50,
   "id": "cfbf1ab9",
   "metadata": {},
   "outputs": [
    {
     "name": "stdout",
     "output_type": "stream",
     "text": [
      "Enter the number: 6\n",
      "0 1 1 2 3 5 "
     ]
    }
   ],
   "source": [
    "n=int(input(\"Enter the number: \"))\n",
    "a,b=0,1\n",
    "sum=0\n",
    "if n==1:\n",
    "    print(a)\n",
    "    \n",
    "else:\n",
    "\n",
    "    print(a,end=\" \")\n",
    "    print(b,end=\" \")\n",
    "\n",
    "    for i in range(2,n):\n",
    "        sum=a+b\n",
    "        a,b=b,sum\n",
    "        print(sum,end=\" \")\n",
    "        \n"
   ]
  },
  {
   "cell_type": "markdown",
   "id": "540d8582",
   "metadata": {},
   "source": [
    "### 4.\tWrite a Python Program to Check Armstrong Number?\n"
   ]
  },
  {
   "cell_type": "code",
   "execution_count": 7,
   "id": "f6225683",
   "metadata": {},
   "outputs": [
    {
     "name": "stdout",
     "output_type": "stream",
     "text": [
      "9474 is an Armstrong number\n"
     ]
    }
   ],
   "source": [
    "num = int(input(\"Enter the number: \"))\n",
    "order = len(str(num))\n",
    "sum = 0\n",
    "temp = num\n",
    "while temp > 0:\n",
    "    digit = temp % 10\n",
    "    sum += digit ** order\n",
    "\n",
    "if num == sum:\n",
    "    print(num,\"is an Armstrong number\")\n",
    "else:\n",
    "    print(num,\"is not an Armstrong number\")\n"
   ]
  },
  {
   "cell_type": "markdown",
   "id": "9b55523d",
   "metadata": {},
   "source": [
    "### 5.\tWrite a Python Program to Find Armstrong Number in an Interval?\n"
   ]
  },
  {
   "cell_type": "code",
   "execution_count": 28,
   "id": "64ca42cc",
   "metadata": {},
   "outputs": [
    {
     "name": "stdout",
     "output_type": "stream",
     "text": [
      "Enter the lower bound: 100\n",
      "Enter the upper bound: 10000\n",
      "Amstrong numbers between them are: \n",
      "153\n",
      "370\n",
      "371\n",
      "407\n",
      "1634\n",
      "8208\n",
      "9474\n"
     ]
    }
   ],
   "source": [
    "# Program to check Armstrong numbers in a certain interval\n",
    "\n",
    "lower = int(input(\"Enter the lower bound: \"))\n",
    "upper = int(input(\"Enter the upper bound: \"))\n",
    "print(\"Amstrong numbers between them are: \")\n",
    "\n",
    "for num in range(lower, upper + 1):\n",
    "    order = len(str(num))\n",
    "    sum = 0\n",
    "    temp = num\n",
    "    \n",
    "    while temp > 0:\n",
    "        digit = temp % 10\n",
    "        sum += digit ** order\n",
    "        temp //= 10\n",
    "        \n",
    "\n",
    "    if num == sum:\n",
    "        print(num)\n",
    "        \n"
   ]
  },
  {
   "cell_type": "markdown",
   "id": "38d50a08",
   "metadata": {},
   "source": [
    "### 6.\tWrite a Python Program to Find the Sum of Natural Numbers?"
   ]
  },
  {
   "cell_type": "code",
   "execution_count": 29,
   "id": "e65016e3",
   "metadata": {},
   "outputs": [
    {
     "name": "stdout",
     "output_type": "stream",
     "text": [
      "Enter the natural number: 100\n",
      "Sum of the natural numbers till 100 is  5050.0\n"
     ]
    }
   ],
   "source": [
    "a=int(input(\"Enter the natural number: \"))\n",
    "\n",
    "sum = a *(a+1) * 0.5\n",
    "\n",
    "print(\"Sum of the natural numbers till {} is \".format(a), sum)\n",
    "    "
   ]
  }
 ],
 "metadata": {
  "kernelspec": {
   "display_name": "Python 3 (ipykernel)",
   "language": "python",
   "name": "python3"
  },
  "language_info": {
   "codemirror_mode": {
    "name": "ipython",
    "version": 3
   },
   "file_extension": ".py",
   "mimetype": "text/x-python",
   "name": "python",
   "nbconvert_exporter": "python",
   "pygments_lexer": "ipython3",
   "version": "3.9.7"
  }
 },
 "nbformat": 4,
 "nbformat_minor": 5
}
