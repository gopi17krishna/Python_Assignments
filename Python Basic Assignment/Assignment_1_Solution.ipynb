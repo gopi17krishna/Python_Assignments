{
 "cells": [
  {
   "cell_type": "markdown",
   "id": "4935f61e",
   "metadata": {},
   "source": [
    "### 1. In the below elements which of them are values or an expression? eg:- values can be integer or string and expressions will be mathematical operators.\n",
    "  \n",
    "'hello' * -87.8 - / + 6\n",
    "\n",
    "\n"
   ]
  },
  {
   "cell_type": "code",
   "execution_count": null,
   "id": "1a27a9e3",
   "metadata": {},
   "outputs": [],
   "source": [
    "Answer: \n",
    "         Values are the following:\n",
    "            'hello'\n",
    "            -87.8\n",
    "             6\n",
    "         Expresseions are the following:\n",
    "             *\n",
    "             -\n",
    "             /\n",
    "             +\n"
   ]
  },
  {
   "cell_type": "markdown",
   "id": "28ba67b4",
   "metadata": {},
   "source": [
    "### 2. What is the difference between string and variable?\n",
    "\n",
    "\n",
    "        \n"
   ]
  },
  {
   "cell_type": "code",
   "execution_count": null,
   "id": "a3127d2c",
   "metadata": {},
   "outputs": [],
   "source": [
    "Answer: \n",
    "        A variable is just a storage medium which is used to store some information. A variable can be used to store data which         \n",
    "        is of a particulat data type.\n",
    "        \n",
    "        A String is one of the data type which shows the type of the variable/data/information it is assigned to. Strings are\n",
    "        always encosed in double quotes or single quotes."
   ]
  },
  {
   "cell_type": "markdown",
   "id": "7500f9d8",
   "metadata": {},
   "source": [
    "### 3. Describe three different data types.\n",
    "        \n"
   ]
  },
  {
   "cell_type": "code",
   "execution_count": null,
   "id": "6129abe5",
   "metadata": {},
   "outputs": [],
   "source": [
    "Answer:\n",
    "        There are multiple data types like string, int, float, complex, boolean, set, list, tuple, dict etc....\n",
    "        let us discuss on 3 different types of data types i.e Numeric Types, Sequence Types and Boolean Type\n",
    "        Numeric Types include - int, float, complex which deals with numerical values\n",
    "        Sequence Types include - list, tuple, range which deals with swquence of data entered\n",
    "        Boolean Type include the  boolean values which returns either true ir false"
   ]
  },
  {
   "cell_type": "markdown",
   "id": "9f61680d",
   "metadata": {},
   "source": [
    "### 4. What is an expression made up of? What do all expressions do?\n",
    "\n"
   ]
  },
  {
   "cell_type": "code",
   "execution_count": null,
   "id": "794a3c07",
   "metadata": {},
   "outputs": [],
   "source": [
    "Answer:\n",
    "        An expression is made up of different values, variables, operators, and calls to functions which need to be evaluated           \n",
    "        at any point of time. \n",
    "        \n",
    "        In Python, expressions are evaluated as per the problem statement and displays the result of the expression using a\n",
    "        print or return statement."
   ]
  },
  {
   "cell_type": "markdown",
   "id": "bda6c0a6",
   "metadata": {},
   "source": [
    "### 5. This assignment statements, like spam = 10. What is the difference between an expression and a statement?\n"
   ]
  },
  {
   "cell_type": "code",
   "execution_count": null,
   "id": "a995145c",
   "metadata": {},
   "outputs": [],
   "source": [
    "Answer:\n",
    "        An Expression is a sequence or combination of values, variables, operators and function calls that always produces or\n",
    "        returns a result value. Here expression is spam = 10, which assigns value of integer 10 to a variable named spam. \n",
    "        An expression evaluates to a value. The evaluation of a statement does not changes state. Evaluation of an expression\n",
    "        always Produces or returns a result value. Every expression can’t be a statement.\n",
    "        \n",
    "        A Statement is any Instruction that a python interpreter can execute. It is the smallest executable unit of code\n",
    "        that has an effect, like creating a variable or displaying a value. Each and every line of code that we write in Python\n",
    "        is called a statement. Because, all the lines are executable by the interpreter or the compiler of that programming \n",
    "        language. A statement executes something. The execution of a statement changes state. Execution of a statement may or  \n",
    "        may not produces or displays a result value, it only does whatever the statement says.Every statement can be an   \n",
    "        expression."
   ]
  },
  {
   "cell_type": "markdown",
   "id": "3401f79a",
   "metadata": {},
   "source": [
    "### 6. After running the following code, what does the variable bacon contain?\n",
    "    bacon = 22\n",
    "    bacon + 1\n",
    "\n",
    "\n",
    "        "
   ]
  },
  {
   "cell_type": "code",
   "execution_count": null,
   "id": "3a1dc047",
   "metadata": {},
   "outputs": [],
   "source": [
    "Answer:\n",
    "        It will contain 23; since it the first expression, bacon is assigned the value 22 and in the second epression it is\n",
    "        incemented by 1; as bacon = bacon +1\n",
    "        The output code can be found below."
   ]
  },
  {
   "cell_type": "code",
   "execution_count": 11,
   "id": "4b6df31c",
   "metadata": {},
   "outputs": [
    {
     "data": {
      "text/plain": [
       "23"
      ]
     },
     "execution_count": 11,
     "metadata": {},
     "output_type": "execute_result"
    }
   ],
   "source": [
    "# Question no. 6 output code\n",
    "bacon = 22\n",
    "bacon + 1\n"
   ]
  },
  {
   "cell_type": "markdown",
   "id": "a5bdaefa",
   "metadata": {},
   "source": [
    "### 7. What should the values of the following two terms be?\n",
    "\n",
    "    'spam' + 'spamspam'\n",
    "    'spam' * 3\n",
    "\n",
    "\n",
    "        "
   ]
  },
  {
   "cell_type": "code",
   "execution_count": null,
   "id": "57c7c773",
   "metadata": {},
   "outputs": [],
   "source": [
    "Answer:\n",
    "        For the expression {'spam' + 'spamspam'}, it will concatenate oth the string and will produce the output string as\n",
    "        spamspamspam\n",
    "        For the expression {'spam' * 3}, it will multply the string three times and joins them one each to the other as\n",
    "        spamspamspam.\n",
    "        Both the expression yields the same output as shown below."
   ]
  },
  {
   "cell_type": "code",
   "execution_count": 2,
   "id": "9ded2e26",
   "metadata": {},
   "outputs": [
    {
     "data": {
      "text/plain": [
       "'spamspamspam'"
      ]
     },
     "execution_count": 2,
     "metadata": {},
     "output_type": "execute_result"
    }
   ],
   "source": [
    "# Question no. 7 output code\n",
    "'spam' * 3\n",
    "\n"
   ]
  },
  {
   "cell_type": "code",
   "execution_count": 3,
   "id": "74e454e9",
   "metadata": {},
   "outputs": [
    {
     "data": {
      "text/plain": [
       "'spamspamspam'"
      ]
     },
     "execution_count": 3,
     "metadata": {},
     "output_type": "execute_result"
    }
   ],
   "source": [
    "# Question no. 7 output code\n",
    "'spam' + 'spamspam'\n",
    "\n"
   ]
  },
  {
   "cell_type": "markdown",
   "id": "0ed3beb0",
   "metadata": {},
   "source": [
    "### 8. Why is eggs a valid variable name while 100 is invalid?\n",
    "\n"
   ]
  },
  {
   "cell_type": "code",
   "execution_count": null,
   "id": "bb50ca8c",
   "metadata": {},
   "outputs": [],
   "source": [
    "Answer:\n",
    "        Python follows a naming convension for its variable, and as 100 is an integer value, it can't be assigned as a variable         \n",
    "        name, same is the case with floating numbers, complex numbers etc. A python variable cannot start with an integer,\n",
    "        although we could use it after any allowed variable or special symbol( _ ) like, Gopi100 or Gopi_100 etc. Also, there           \n",
    "        are certain reserved keywords in python which can't be used as a variable name like list, int, str etc..\n",
    "        Eggs is neither a reserved keyword nor start with any integers or special symbols other than undescore, thus it\n",
    "        perfectly follows the variable naming convension of python, therefore eggs is a valid."
   ]
  },
  {
   "cell_type": "markdown",
   "id": "6ec9d342",
   "metadata": {},
   "source": [
    "### 9. What three functions can be used to get the integer, floating-point number, or string version of a value?\n",
    "\n"
   ]
  },
  {
   "cell_type": "code",
   "execution_count": null,
   "id": "0b1e77ba",
   "metadata": {},
   "outputs": [],
   "source": [
    "Answer:\n",
    "        To get the integer type we use the function int()\n",
    "        To get the floating point name we use the function float()\n",
    "        To get the string version of a value we use the function str()"
   ]
  },
  {
   "cell_type": "markdown",
   "id": "32562431",
   "metadata": {},
   "source": [
    "### 10. Why does this expression cause an error? How can you fix it?\n",
    "\n",
    "    'I have eaten ' + 99 + ' burritos.\n",
    "    \n",
    "\n",
    "        \n",
    "        \n"
   ]
  },
  {
   "cell_type": "code",
   "execution_count": null,
   "id": "270ecd92",
   "metadata": {},
   "outputs": [],
   "source": [
    "Answer:\n",
    "        The above expression causes an error because in that expression there are two differnet data types, i.e. string and             integer, and it is asking the python to concatenate both of them. In python we cannot concatenate two differnet data           types. To do so we need to do the typecasting operation. We need to change the data type of other data which is the odd         one out. and then we can concatenate them ,if it is a string or add them if it is an integer.\n",
    "        \n",
    "        The above error can be fixed by doing a type conversion from integer to string.\n",
    "        \n",
    "        => 'I have eaten' + str(99) + 'burritos'\n",
    "        \n",
    "Errors and solution shown below"
   ]
  },
  {
   "cell_type": "code",
   "execution_count": 4,
   "id": "f84f5b6e",
   "metadata": {},
   "outputs": [
    {
     "ename": "TypeError",
     "evalue": "can only concatenate str (not \"int\") to str",
     "output_type": "error",
     "traceback": [
      "\u001b[1;31m---------------------------------------------------------------------------\u001b[0m",
      "\u001b[1;31mTypeError\u001b[0m                                 Traceback (most recent call last)",
      "\u001b[1;32mC:\\Users\\GOPIKR~1.U\\AppData\\Local\\Temp/ipykernel_7072/2390429837.py\u001b[0m in \u001b[0;36m<module>\u001b[1;34m\u001b[0m\n\u001b[0;32m      1\u001b[0m \u001b[1;31m# Question no. 10 output code\u001b[0m\u001b[1;33m\u001b[0m\u001b[1;33m\u001b[0m\u001b[0m\n\u001b[0;32m      2\u001b[0m \u001b[1;33m\u001b[0m\u001b[0m\n\u001b[1;32m----> 3\u001b[1;33m \u001b[1;34m'I have eaten '\u001b[0m \u001b[1;33m+\u001b[0m \u001b[1;36m99\u001b[0m \u001b[1;33m+\u001b[0m \u001b[1;34m' burritos'\u001b[0m\u001b[1;33m\u001b[0m\u001b[1;33m\u001b[0m\u001b[0m\n\u001b[0m",
      "\u001b[1;31mTypeError\u001b[0m: can only concatenate str (not \"int\") to str"
     ]
    }
   ],
   "source": [
    "# Question no. 10 output code\n",
    "\n",
    "'I have eaten ' + 99 + ' burritos'  ## ERROR CODE"
   ]
  },
  {
   "cell_type": "code",
   "execution_count": 5,
   "id": "dccf45d9",
   "metadata": {},
   "outputs": [
    {
     "data": {
      "text/plain": [
       "'I have eaten99burritos'"
      ]
     },
     "execution_count": 5,
     "metadata": {},
     "output_type": "execute_result"
    }
   ],
   "source": [
    "# Question no. 10 output code\n",
    "\n",
    "'I have eaten' + str(99) + 'burritos'   ## CORRECT CODE"
   ]
  }
 ],
 "metadata": {
  "kernelspec": {
   "display_name": "Python 3 (ipykernel)",
   "language": "python",
   "name": "python3"
  },
  "language_info": {
   "codemirror_mode": {
    "name": "ipython",
    "version": 3
   },
   "file_extension": ".py",
   "mimetype": "text/x-python",
   "name": "python",
   "nbconvert_exporter": "python",
   "pygments_lexer": "ipython3",
   "version": "3.9.7"
  }
 },
 "nbformat": 4,
 "nbformat_minor": 5
}
