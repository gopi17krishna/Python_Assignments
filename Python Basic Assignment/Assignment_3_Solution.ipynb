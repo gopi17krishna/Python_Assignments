{
 "cells": [
  {
   "cell_type": "markdown",
   "id": "f0b9a8d4",
   "metadata": {},
   "source": [
    "### 1. Why are functions advantageous to have in your programs?"
   ]
  },
  {
   "cell_type": "code",
   "execution_count": null,
   "id": "3dbd5bd7",
   "metadata": {},
   "outputs": [],
   "source": [
    "Answer:\n",
    "    Functions enable the reusability of the code, improve its readability, maintainability and scalability.\n",
    "    It reduces the length of the code and it makes anybody to easily read the code.\n",
    "    Functions are the way to write a piece of code and use it in multiple places, so it doesn’t need to be repeated.\n",
    "    "
   ]
  },
  {
   "cell_type": "markdown",
   "id": "378cad8f",
   "metadata": {},
   "source": [
    "### 2. When does the code in a function run: when it's specified or when it's called?\n"
   ]
  },
  {
   "cell_type": "code",
   "execution_count": null,
   "id": "96c90050",
   "metadata": {},
   "outputs": [],
   "source": [
    "Answer:\n",
    "    The code inside a function runs only when it is called upon."
   ]
  },
  {
   "cell_type": "markdown",
   "id": "1ff8be7a",
   "metadata": {},
   "source": [
    "### 3. What statement creates a function?"
   ]
  },
  {
   "cell_type": "code",
   "execution_count": null,
   "id": "303cc232",
   "metadata": {},
   "outputs": [],
   "source": [
    "Answer:\n",
    "    To create a function it needs 3 things i.e. \n",
    "        1) function declaration, \n",
    "        2) body of the function, and \n",
    "        3) return statement\n",
    "    \n",
    "    --> The function is declared using the built in keyword 'def' followed by a unique function name () and a colon(:). \n",
    "        eg. def gopi(), def abc():\n",
    "    --> The body of the function could be anything from a normal print statement to any condition or expression or anything i.e\n",
    "        the function code is written inside the body\n",
    "    --> The return: The result or output of the function is returned using the return statement\n",
    "    \n",
    "-->example:\n",
    "    \n",
    "    def gopi():\n",
    "        for i in range(10):\n",
    "            print(i)\n",
    "        return\n",
    "    \n",
    "    "
   ]
  },
  {
   "cell_type": "markdown",
   "id": "d7acf90e",
   "metadata": {},
   "source": [
    "### 4. What is the difference between a function and a function call?"
   ]
  },
  {
   "cell_type": "code",
   "execution_count": null,
   "id": "94a42d7e",
   "metadata": {},
   "outputs": [],
   "source": [
    "Answer:\n",
    "        A function is basically a defintion and declaration of the code, which is written using a 'def' followed by a \n",
    "        unique function name () and a colon(:). It consists of fuction declaration, function code/body and return statement.\n",
    "        \n",
    "        A function call is executing that particular by calling that function with or without arguments as needed. \n",
    "        It moves the program execution into the function, and then evaluates to the function's return value."
   ]
  },
  {
   "cell_type": "markdown",
   "id": "5b0bf322",
   "metadata": {},
   "source": [
    "### 5. How many global scopes are there in a Python program? How many local scopes?"
   ]
  },
  {
   "cell_type": "code",
   "execution_count": null,
   "id": "053a5dff",
   "metadata": {},
   "outputs": [],
   "source": [
    "Answer:\n",
    "        There is only one global scope in Python\n",
    "        Upon calling the function only the local scopes are created."
   ]
  },
  {
   "cell_type": "markdown",
   "id": "6b3e3294",
   "metadata": {},
   "source": [
    "### 6. What happens to variables in a local scope when the function call returns?"
   ]
  },
  {
   "cell_type": "code",
   "execution_count": null,
   "id": "b3d08e4f",
   "metadata": {},
   "outputs": [],
   "source": [
    "Answer:\n",
    "        The local scope gets destroyed when a function call returns, and all its variables are also destroyed."
   ]
  },
  {
   "cell_type": "markdown",
   "id": "0d834316",
   "metadata": {},
   "source": [
    "### 7. What is the concept of a return value? Is it possible to have a return value in an expression?"
   ]
  },
  {
   "cell_type": "code",
   "execution_count": null,
   "id": "c3781b72",
   "metadata": {},
   "outputs": [],
   "source": [
    "Answer:\n",
    "        A return value is basically the output of the function or the value that a function call evaluates to. \n",
    "        YES, it is possible to have a return value in an expression"
   ]
  },
  {
   "cell_type": "markdown",
   "id": "868abdf4",
   "metadata": {},
   "source": [
    "### 8. If a function does not have a return statement, what is the return value of a call to that function?"
   ]
  },
  {
   "cell_type": "code",
   "execution_count": null,
   "id": "d963fcb2",
   "metadata": {},
   "outputs": [],
   "source": [
    "Answer:\n",
    "        If a function does not have a return statement, then its return value is None."
   ]
  },
  {
   "cell_type": "markdown",
   "id": "f8325a6e",
   "metadata": {},
   "source": [
    "### 9. How do you make a function variable refer to the global variable?"
   ]
  },
  {
   "cell_type": "code",
   "execution_count": null,
   "id": "3ecd7a5e",
   "metadata": {},
   "outputs": [],
   "source": [
    "Answer:\n",
    "        To make a function variable refer to the global variable we can use the global keyword \n",
    "        to declare which variables are global."
   ]
  },
  {
   "cell_type": "markdown",
   "id": "19af83f8",
   "metadata": {},
   "source": [
    "### 10. What is the data type of None?"
   ]
  },
  {
   "cell_type": "code",
   "execution_count": null,
   "id": "5da8d82d",
   "metadata": {},
   "outputs": [],
   "source": [
    "Answer:\n",
    "        The data type of None is NoneType"
   ]
  },
  {
   "cell_type": "markdown",
   "id": "75b26492",
   "metadata": {},
   "source": [
    "### 11. What does the sentence import areallyourpetsnamederic do?\n",
    "\n"
   ]
  },
  {
   "cell_type": "code",
   "execution_count": null,
   "id": "ac86290b",
   "metadata": {},
   "outputs": [],
   "source": [
    "Answer:\n",
    "        It imports/calls the function/module named \"areallyourpetsnamederic\" to the calling function/program."
   ]
  },
  {
   "cell_type": "markdown",
   "id": "73e7f280",
   "metadata": {},
   "source": [
    "### 12. If you had a bacon() feature in a spam module, what would you call it after importing spam?\n"
   ]
  },
  {
   "cell_type": "code",
   "execution_count": null,
   "id": "a86c963a",
   "metadata": {},
   "outputs": [],
   "source": [
    "Answer:\n",
    "    --> we can call it by spam.bacon()"
   ]
  },
  {
   "cell_type": "markdown",
   "id": "38e33268",
   "metadata": {},
   "source": [
    "### 13. What can you do to save a programme from crashing if it encounters an error?\n"
   ]
  },
  {
   "cell_type": "code",
   "execution_count": null,
   "id": "fb25c4fa",
   "metadata": {},
   "outputs": [],
   "source": [
    "Answer:\n",
    "        We can use the try statement and write the pice of code inside the try block. \n",
    "        The try block lets to test a block of code for errors."
   ]
  },
  {
   "cell_type": "markdown",
   "id": "c47143d4",
   "metadata": {},
   "source": [
    "### 14. What is the purpose of the try clause? What is the purpose of the except clause?"
   ]
  },
  {
   "cell_type": "code",
   "execution_count": null,
   "id": "cc6a3c3d",
   "metadata": {},
   "outputs": [],
   "source": [
    "Answer:\n",
    "        The purpose of the try block is to test a block of code for errors. If there are no errors in the program, \n",
    "        the code inside the try block will be executed. \n",
    "        \n",
    "        The purpose of the except block is to handle the error. The code inside the except block will execute \n",
    "        whenever the program encounters some error in the preceding try block.\n",
    " "
   ]
  }
 ],
 "metadata": {
  "kernelspec": {
   "display_name": "Python 3 (ipykernel)",
   "language": "python",
   "name": "python3"
  },
  "language_info": {
   "codemirror_mode": {
    "name": "ipython",
    "version": 3
   },
   "file_extension": ".py",
   "mimetype": "text/x-python",
   "name": "python",
   "nbconvert_exporter": "python",
   "pygments_lexer": "ipython3",
   "version": "3.9.7"
  }
 },
 "nbformat": 4,
 "nbformat_minor": 5
}
