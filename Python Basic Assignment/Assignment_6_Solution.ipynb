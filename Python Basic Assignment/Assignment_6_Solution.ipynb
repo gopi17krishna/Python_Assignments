{
 "cells": [
  {
   "cell_type": "markdown",
   "id": "8a42dca6",
   "metadata": {},
   "source": [
    "### 1. What are escape characters, and how do you use them?\n"
   ]
  },
  {
   "cell_type": "code",
   "execution_count": null,
   "id": "4b6fca12",
   "metadata": {},
   "outputs": [],
   "source": [
    "Answer: \n",
    "    We use an escape character to insert characters that are difficult or impossible of illeag in a string,  It is used as a \n",
    "    backslash \\ followed by the character we want to insert."
   ]
  },
  {
   "cell_type": "markdown",
   "id": "61642c98",
   "metadata": {},
   "source": [
    "### 2. What do the escape characters n and t stand for?\n",
    "\n"
   ]
  },
  {
   "cell_type": "code",
   "execution_count": null,
   "id": "6ef9aa67",
   "metadata": {},
   "outputs": [],
   "source": [
    "Answer:\n",
    "        \\n means it will take the python control to the new line or next line\n",
    "        \\t means it will add a tab space between the next character"
   ]
  },
  {
   "cell_type": "markdown",
   "id": "3ccd4d5a",
   "metadata": {},
   "source": [
    "### 3. What is the way to include backslash characters in a string?\n"
   ]
  },
  {
   "cell_type": "code",
   "execution_count": null,
   "id": "858ab312",
   "metadata": {},
   "outputs": [],
   "source": [
    "Answer:\n",
    "        By using a \\\\ escape character"
   ]
  },
  {
   "cell_type": "markdown",
   "id": "06e1dc2f",
   "metadata": {},
   "source": [
    "### 4. The string \"Howl's Moving Castle\" is a correct value. Why isn't the single quote character in the word Howl's not escaped a problem?\n"
   ]
  },
  {
   "cell_type": "code",
   "execution_count": null,
   "id": "51fd4343",
   "metadata": {},
   "outputs": [],
   "source": [
    "Answer:\n",
    "        The single quote in the word Howl's is not escaped because of the usage of the double quotes at the beginning and at\n",
    "        end of the entire string \"Howl's Moving Castle\". The single quote inside a double is not escaped in Python"
   ]
  },
  {
   "cell_type": "markdown",
   "id": "211c2fe3",
   "metadata": {},
   "source": [
    "### 5. How do you write a string of newlines if you don't want to use the n character?\n"
   ]
  },
  {
   "cell_type": "code",
   "execution_count": null,
   "id": "a06ccecc",
   "metadata": {},
   "outputs": [],
   "source": [
    "Answer:\n",
    "        By using multiline strings can be used if we don't want to use the n character."
   ]
  },
  {
   "cell_type": "markdown",
   "id": "aadcf926",
   "metadata": {},
   "source": [
    "### 6. What are the values of the given expressions?\n",
    "'Hello, world!'[1] \\\n",
    "'Hello, world!'[0:5]\\\n",
    "'Hello, world!'[:5] \\\n",
    "'Hello, world!'[3:]\n",
    "\n"
   ]
  },
  {
   "cell_type": "code",
   "execution_count": null,
   "id": "13346d7c",
   "metadata": {},
   "outputs": [],
   "source": [
    "Answer:\n",
    "        'Hello, world!'[1]   ----> 'e'\n",
    "        'Hello, world!'[0:5] ----> 'Hello'\n",
    "        'Hello, world!'[:5]  ----> 'Hello'\n",
    "        'Hello, world!'[3:]  ----> 'lo, world!'\n",
    "        "
   ]
  },
  {
   "cell_type": "markdown",
   "id": "27895f9c",
   "metadata": {},
   "source": [
    "### 7. What are the values of the following expressions?\n",
    "'Hello'.upper()\\\n",
    "'Hello'.upper().isupper()\\\n",
    "'Hello'.upper().lower()\n"
   ]
  },
  {
   "cell_type": "code",
   "execution_count": null,
   "id": "37e4ee59",
   "metadata": {},
   "outputs": [],
   "source": [
    "Answer:\n",
    "        'Hello'.upper()             --> 'HELLO'\n",
    "        'Hello'.upper().isupper()   -->  True\n",
    "        'Hello'.upper().lower()     --> 'hello'"
   ]
  },
  {
   "cell_type": "markdown",
   "id": "a6871938",
   "metadata": {},
   "source": [
    "### 8. What are the values of the following expressions?\n",
    "'Remember, remember, the fifth of July.'.split()\\\n",
    "'-'.join('There can only one.'.split())\n"
   ]
  },
  {
   "cell_type": "code",
   "execution_count": null,
   "id": "28c573a0",
   "metadata": {},
   "outputs": [],
   "source": [
    "Answer:\n",
    "        'Remember, remember, the fifth of July.'.split() --> ['Remember,', 'remember,', 'the', 'fifth', 'of', 'July.']\n",
    "        '-'.join('There can only one.'.split())   --> 'There-can-only-one.'"
   ]
  },
  {
   "cell_type": "markdown",
   "id": "c7c60f9b",
   "metadata": {},
   "source": [
    "### 9. What are the methods for right-justifying, left-justifying, and centering a string?\n"
   ]
  },
  {
   "cell_type": "code",
   "execution_count": null,
   "id": "1a5be727",
   "metadata": {},
   "outputs": [],
   "source": [
    "Answer:\n",
    "        right-justifying  --->  rjust()\n",
    "        left-justifying   --->  ljust()\n",
    "        centering         --->  center() "
   ]
  },
  {
   "cell_type": "markdown",
   "id": "0207acc7",
   "metadata": {},
   "source": [
    "### 10. What is the best way to remove whitespace characters from the start or end?"
   ]
  },
  {
   "cell_type": "code",
   "execution_count": null,
   "id": "74587916",
   "metadata": {},
   "outputs": [],
   "source": [
    "Answer:\n",
    "        To remove whitespace from the start and ends of a string, we can use the lstrip() and rstrip() respectively."
   ]
  }
 ],
 "metadata": {
  "kernelspec": {
   "display_name": "Python 3 (ipykernel)",
   "language": "python",
   "name": "python3"
  },
  "language_info": {
   "codemirror_mode": {
    "name": "ipython",
    "version": 3
   },
   "file_extension": ".py",
   "mimetype": "text/x-python",
   "name": "python",
   "nbconvert_exporter": "python",
   "pygments_lexer": "ipython3",
   "version": "3.9.7"
  }
 },
 "nbformat": 4,
 "nbformat_minor": 5
}
