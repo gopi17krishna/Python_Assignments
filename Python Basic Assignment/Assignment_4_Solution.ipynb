{
 "cells": [
  {
   "cell_type": "markdown",
   "id": "2008d1bc",
   "metadata": {},
   "source": [
    "### 1. What exactly is [ ]?\n",
    "\n"
   ]
  },
  {
   "cell_type": "code",
   "execution_count": null,
   "id": "271a9978",
   "metadata": {},
   "outputs": [],
   "source": [
    "Answer:\n",
    "        In Python, a list is created by adding elements inside a square bracket [], separated by commas.\n",
    "        We can use the index operator [] to access an item in a list.\n",
    "        [] here means an empty list with no items in it and which can be assigned to a variable.\n",
    "        eg;\n",
    "        list1=[]\n",
    "        gopi_list=[1,2,4]\n",
    "        gopi_list[0] ----> 1"
   ]
  },
  {
   "cell_type": "markdown",
   "id": "bef2d022",
   "metadata": {},
   "source": [
    "###  2. In a list of values stored in a variable called spam, how would you assign the value 'hello' as the third value?  (Assume [2, 4, 6, 8, 10] are in spam.)"
   ]
  },
  {
   "cell_type": "code",
   "execution_count": null,
   "id": "c67818dc",
   "metadata": {},
   "outputs": [],
   "source": [
    "Answer:\n",
    "        Here spam = [2,4,6,8] with spam[0]=2, spam[1]=4, spam[2]=6 and spam[3]=8\n",
    "        So, we can assign the value 'hello' as the 3rd index by:\n",
    "        spam[2] = 'hello' which will return the list spam as:\n",
    "        \n",
    "        spam = [2,4,'hello',8]"
   ]
  },
  {
   "cell_type": "markdown",
   "id": "9a90191a",
   "metadata": {},
   "source": [
    " ### Let's pretend the spam includes the list ['a', 'b', 'c', 'd'] for the next three queries.\n"
   ]
  },
  {
   "cell_type": "markdown",
   "id": "fa6ea2c7",
   "metadata": {},
   "source": [
    "### 3. What is the value of spam[int(int('3' * 2) / 11)]?\n"
   ]
  },
  {
   "cell_type": "code",
   "execution_count": null,
   "id": "30784095",
   "metadata": {},
   "outputs": [],
   "source": [
    "Answer:\n",
    "        The value of spam[int(int('3'*2)/11)] is 'd'.\n",
    "        Because '3' *2 will return '33' of string type, which is then typecasted to int, which now becomes integer 33, \n",
    "        then 33 is divided by 11, which return integer 3, eventually spam[3] is 'd'."
   ]
  },
  {
   "cell_type": "markdown",
   "id": "97d93ff2",
   "metadata": {},
   "source": [
    "### 4. What is the value of spam[-1]?\n"
   ]
  },
  {
   "cell_type": "code",
   "execution_count": null,
   "id": "abe92e31",
   "metadata": {},
   "outputs": [],
   "source": [
    "Answer:\n",
    "        The value of spam[-1] is 'd'\n",
    "        because spam[3] is same as spam[-1], spam[2] is same as spam[-2], \n",
    "        spam[1] is same as spam[-3], spam[0] is same as spam[-4].\n",
    "        Negative index ar counted from the last"
   ]
  },
  {
   "cell_type": "markdown",
   "id": "18b09090",
   "metadata": {},
   "source": [
    "### 5. What is the value of spam[ : 2]? \n"
   ]
  },
  {
   "cell_type": "code",
   "execution_count": null,
   "id": "8b7e2c60",
   "metadata": {},
   "outputs": [],
   "source": [
    "Answer:\n",
    "        The value of spam[:2] is ['a','b']\n",
    "        Because in Python, list indices start at inner bound and end at the outer bound excluding the outer bound. \n",
    "        Here, the inner bound is 0 and outer bound is 2, excluding 2.\n",
    "        Thus it will print only, spam[0] and spam[1]"
   ]
  },
  {
   "cell_type": "markdown",
   "id": "ac713bb5",
   "metadata": {},
   "source": [
    "### Let's pretend bacon has the list [3.14, 'cat,' 11, 'cat,' True] for the next three questions."
   ]
  },
  {
   "cell_type": "markdown",
   "id": "65fdfefa",
   "metadata": {},
   "source": [
    "### 6. What is the value of bacon.index('cat')?\n"
   ]
  },
  {
   "cell_type": "code",
   "execution_count": null,
   "id": "ee8089a9",
   "metadata": {},
   "outputs": [],
   "source": [
    "Answer:\n",
    "        The value of bacon.index('cat') is 1.\n",
    "        Because while using index() function, it will only return the first occurance of the element."
   ]
  },
  {
   "cell_type": "markdown",
   "id": "0978bc24",
   "metadata": {},
   "source": [
    "### 7. How does bacon.append(99) change the look of the list value in bacon?\n"
   ]
  },
  {
   "cell_type": "code",
   "execution_count": null,
   "id": "751ccda0",
   "metadata": {},
   "outputs": [],
   "source": [
    "Answer:\n",
    "        bacon.append(99) will append 99 to the last of the list. Thus the new list becomes:\n",
    "        [3.14, 'cat', 11, 'cat', True, 99]"
   ]
  },
  {
   "cell_type": "markdown",
   "id": "fdec4588",
   "metadata": {},
   "source": [
    "### 8. How does bacon.remove('cat') change the look of the list in bacon?\n"
   ]
  },
  {
   "cell_type": "code",
   "execution_count": null,
   "id": "69e7e984",
   "metadata": {},
   "outputs": [],
   "source": [
    "Answer:\n",
    "        bacon.remove('cat') will remove the first occurance of the value 'cat' from the list and the new list is:\n",
    "        [3.14, 11, 'cat', True]        "
   ]
  },
  {
   "cell_type": "markdown",
   "id": "d397aaf5",
   "metadata": {},
   "source": [
    "### 9. What are the list concatenation and list replication operators?\n"
   ]
  },
  {
   "cell_type": "code",
   "execution_count": null,
   "id": "fd52b3b7",
   "metadata": {},
   "outputs": [],
   "source": [
    "Answer:\n",
    "        For list concatenation we use the '+' operator, and\n",
    "        for list replication we use the '*' operator."
   ]
  },
  {
   "cell_type": "markdown",
   "id": "7c4e641f",
   "metadata": {},
   "source": [
    "### 10. What is difference between the list methods append() and insert()?\n"
   ]
  },
  {
   "cell_type": "code",
   "execution_count": null,
   "id": "260442ae",
   "metadata": {},
   "outputs": [],
   "source": [
    "Answer:\n",
    "      append() will add values only to the end of a list and that too one at a time, while\n",
    "      insert() will add the values anywhere into the list.  \n",
    "    \n",
    "      example, let, list1= [ 1,2,3]\n",
    "        --> list1.append(4) will give list1 as [1,2,3,4]\n",
    "        -->list1.insert(0,0) will insert 0 to the 0th index and give list1 as [0,1,2,3]"
   ]
  },
  {
   "cell_type": "markdown",
   "id": "c1d90b55",
   "metadata": {},
   "source": [
    "### 11. What are the two methods for removing items from a list?\n"
   ]
  },
  {
   "cell_type": "code",
   "execution_count": null,
   "id": "c2fe08b1",
   "metadata": {},
   "outputs": [],
   "source": [
    "Answer:\n",
    "        The 2 main methods for removing items from a list are\n",
    "        1)del[]\n",
    "        2)remove()\n",
    "        We also use pop() methood to remove items"
   ]
  },
  {
   "cell_type": "markdown",
   "id": "856068ce",
   "metadata": {},
   "source": [
    "### 12. Describe how list values and string values are identical.\n"
   ]
  },
  {
   "cell_type": "code",
   "execution_count": null,
   "id": "21c57892",
   "metadata": {},
   "outputs": [],
   "source": [
    "Answer:\n",
    "        The Lists and Strings are identical in Python is because\n",
    "        1) Both are sequences\n",
    "        2) Both can be passed to len() function, \n",
    "        3) Both have indexes and slices, \n",
    "        4) Both can be used in for loops, concatenation or replication, \n",
    "        5) Both can be used with the 'in' and 'not in' operators."
   ]
  },
  {
   "cell_type": "markdown",
   "id": "143d2f8a",
   "metadata": {},
   "source": [
    "### 13. What's the difference between tuples and lists?\n"
   ]
  },
  {
   "cell_type": "code",
   "execution_count": null,
   "id": "95ca1b5b",
   "metadata": {},
   "outputs": [],
   "source": [
    "Answer:\n",
    "        Tuples are written inside '( )' and Lists are written inside '[]'\n",
    "        Tuples are immutable objects while the lists are mutable. \n",
    "        This means that tuples cannot be changed at all while the lists can be changded/modified anytime."
   ]
  },
  {
   "cell_type": "markdown",
   "id": "56a1465f",
   "metadata": {},
   "source": [
    "### 14. How do you type a tuple value that only contains the integer 42?\n"
   ]
  },
  {
   "cell_type": "code",
   "execution_count": null,
   "id": "51c9e4d8",
   "metadata": {},
   "outputs": [],
   "source": [
    "Answer:\n",
    "        a = (42,)"
   ]
  },
  {
   "cell_type": "markdown",
   "id": "82e3baea",
   "metadata": {},
   "source": [
    "### 15. How do you get a list value's tuple form? How do you get a tuple value's list form?\n"
   ]
  },
  {
   "cell_type": "code",
   "execution_count": null,
   "id": "1da29d06",
   "metadata": {},
   "outputs": [],
   "source": [
    "Answer:\n",
    "         We can get a list value's tuple form by using --> tuple()\n",
    "         We can get a tuple value's list form by using --> list()\n",
    "        "
   ]
  },
  {
   "cell_type": "markdown",
   "id": "8783b847",
   "metadata": {},
   "source": [
    "### 16. Variables that \"contain\" list values are not necessarily lists themselves. Instead, what do they contain?\n"
   ]
  },
  {
   "cell_type": "raw",
   "id": "2ea04cd2",
   "metadata": {},
   "source": [
    "Answer:\n",
    "        Variables will contain REFERENCES to list values rather than list values themselves"
   ]
  },
  {
   "cell_type": "markdown",
   "id": "63f1f672",
   "metadata": {},
   "source": [
    "### 17. How do you distinguish between copy.copy() and copy.deepcopy()?"
   ]
  },
  {
   "cell_type": "code",
   "execution_count": null,
   "id": "b7167eeb",
   "metadata": {},
   "outputs": [],
   "source": [
    "Answer:\n",
    "        The copy.copy() function will do a shallow copy. \n",
    "        A shallow copy constructs a new compound object and then inserts references into it to the objects \n",
    "        found in the original.\n",
    "        \n",
    "        The copy.deepcopy() function will do a deep copy.\n",
    "        A deep copy constructs a new compound object and then, recursively, inserts copies into it of the objects \n",
    "        found in the original."
   ]
  }
 ],
 "metadata": {
  "kernelspec": {
   "display_name": "Python 3 (ipykernel)",
   "language": "python",
   "name": "python3"
  },
  "language_info": {
   "codemirror_mode": {
    "name": "ipython",
    "version": 3
   },
   "file_extension": ".py",
   "mimetype": "text/x-python",
   "name": "python",
   "nbconvert_exporter": "python",
   "pygments_lexer": "ipython3",
   "version": "3.9.7"
  }
 },
 "nbformat": 4,
 "nbformat_minor": 5
}
