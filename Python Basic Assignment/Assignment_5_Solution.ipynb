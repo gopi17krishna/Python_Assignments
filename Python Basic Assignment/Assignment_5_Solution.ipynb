{
 "cells": [
  {
   "cell_type": "markdown",
   "id": "e6025f0e",
   "metadata": {},
   "source": [
    "### 1. What does an empty dictionary's code look like?"
   ]
  },
  {
   "cell_type": "code",
   "execution_count": null,
   "id": "a852828b",
   "metadata": {},
   "outputs": [],
   "source": [
    "Answer:\n",
    "        dict_empt= {}"
   ]
  },
  {
   "cell_type": "markdown",
   "id": "607085bf",
   "metadata": {},
   "source": [
    "### 2. What is the value of a dictionary value with the key 'foo' and the value 42?\n"
   ]
  },
  {
   "cell_type": "code",
   "execution_count": null,
   "id": "df4bd60b",
   "metadata": {},
   "outputs": [],
   "source": [
    "Answer:\n",
    "        dict_1 = {'foo': 42}"
   ]
  },
  {
   "cell_type": "markdown",
   "id": "0157a16a",
   "metadata": {},
   "source": [
    "### 3. What is the most significant distinction between a dictionary and a list?\n"
   ]
  },
  {
   "cell_type": "code",
   "execution_count": null,
   "id": "1af1aef5",
   "metadata": {},
   "outputs": [],
   "source": [
    "Answer:\n",
    "        Dictionary is a collection of unordered items\n",
    "        While a list is collection of oderderd items"
   ]
  },
  {
   "cell_type": "markdown",
   "id": "87c8022d",
   "metadata": {},
   "source": [
    "### 4. What happens if you try to access spam['foo'] if spam is {'bar': 100}?\n"
   ]
  },
  {
   "cell_type": "code",
   "execution_count": null,
   "id": "904ce584",
   "metadata": {},
   "outputs": [],
   "source": [
    "Answer:\n",
    "        There will be an error generated indicating KeyError error."
   ]
  },
  {
   "cell_type": "markdown",
   "id": "b65b27f1",
   "metadata": {},
   "source": [
    "### 5. If a dictionary is stored in spam, what is the difference between the expressions 'cat' in spam and 'cat' in spam.keys()?\n"
   ]
  },
  {
   "cell_type": "code",
   "execution_count": null,
   "id": "247f0f10",
   "metadata": {},
   "outputs": [],
   "source": [
    "Answer:\n",
    "        For the expression 'cat' in spam, python will check if a key named 'cat' is present in the whole dictionary or not.\n",
    "        For the expression 'cat' in spam.keys(), python will check if a key named 'cat' is present in the entire keys of the dictionary or not.\n",
    "        \n",
    "        In both the case, there is no difference at all."
   ]
  },
  {
   "cell_type": "markdown",
   "id": "6a5b3350",
   "metadata": {},
   "source": [
    "### 6. If a dictionary is stored in spam, what is the difference between the expressions 'cat' in spam and 'cat' in spam.values()?\n"
   ]
  },
  {
   "cell_type": "code",
   "execution_count": null,
   "id": "2099eb42",
   "metadata": {},
   "outputs": [],
   "source": [
    "Answer:\n",
    "        For the expression 'cat' in spam, python will check if a key named 'cat' is present in the whole dictionary or not.\n",
    "        For the expression 'cat' in spam.values(), python will check if a value named 'cat' for a particular key is \n",
    "        present in the entire values of the dictionary or not.\n",
    "        "
   ]
  },
  {
   "cell_type": "markdown",
   "id": "76cc3463",
   "metadata": {},
   "source": [
    "### 7. What is a shortcut for the following code?  if 'color' not in spam: spam['color'] = 'black'\n"
   ]
  },
  {
   "cell_type": "code",
   "execution_count": null,
   "id": "77820341",
   "metadata": {},
   "outputs": [],
   "source": [
    "Answer:\n",
    "        By using --> \n",
    "        spam.setdefault('color', 'black')"
   ]
  },
  {
   "cell_type": "markdown",
   "id": "0f461d66",
   "metadata": {},
   "source": [
    "### 8. How do you \"pretty print\" dictionary values using which module and function?"
   ]
  },
  {
   "cell_type": "code",
   "execution_count": null,
   "id": "0f079cba",
   "metadata": {},
   "outputs": [],
   "source": [
    "Answer:\n",
    "        By Using --> \n",
    "        pprint.pprint()"
   ]
  }
 ],
 "metadata": {
  "kernelspec": {
   "display_name": "Python 3 (ipykernel)",
   "language": "python",
   "name": "python3"
  },
  "language_info": {
   "codemirror_mode": {
    "name": "ipython",
    "version": 3
   },
   "file_extension": ".py",
   "mimetype": "text/x-python",
   "name": "python",
   "nbconvert_exporter": "python",
   "pygments_lexer": "ipython3",
   "version": "3.9.7"
  }
 },
 "nbformat": 4,
 "nbformat_minor": 5
}
